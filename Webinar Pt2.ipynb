{
 "cells": [
  {
   "cell_type": "code",
   "execution_count": 255,
   "metadata": {},
   "outputs": [],
   "source": [
    "import pandas as pd\n",
    "import numpy as np\n",
    "import matplotlib.pyplot as plt\n",
    "%matplotlib inline"
   ]
  },
  {
   "cell_type": "code",
   "execution_count": 296,
   "metadata": {},
   "outputs": [],
   "source": [
    "dataNBA = pd.read_csv(\"all_seasons.csv\").loc[:,[\"player_height\", \"player_weight\"]]\n",
    "dataNBA = np.random.permutation(dataNBA.values)[:int(0.02* dataNBA.shape[0])]\n",
    "dataNBA = dataNBA[dataNBA[:,1] < 120]\n",
    "\n",
    "x = dataNBA[:,0].reshape(-1,1)\n",
    "y = dataNBA[:,1]"
   ]
  },
  {
   "cell_type": "code",
   "execution_count": 297,
   "metadata": {},
   "outputs": [
    {
     "data": {
      "text/plain": [
       "<matplotlib.collections.PathCollection at 0x125c34390>"
      ]
     },
     "execution_count": 297,
     "metadata": {},
     "output_type": "execute_result"
    },
    {
     "data": {
      "image/png": "[encoded data removed]",
      "text/plain": [
       "<Figure size 432x288 with 1 Axes>"
      ]
     },
     "metadata": {
      "needs_background": "light"
     },
     "output_type": "display_data"
    }
   ],
   "source": [
    "plt.scatter(x, y, s = 5)"
   ]
  },
  {
   "cell_type": "code",
   "execution_count": 298,
   "metadata": {},
   "outputs": [],
   "source": [
    "dataNBAtrunc = pd.read_csv(\"all_seasons.csv\").loc[:,[\"player_height\", \"player_weight\"]]\n",
    "dataNBAtrunc = np.random.permutation(dataNBAtrunc.values)[:int(0.6* dataNBA.shape[0])]\n",
    "dataNBAtrunc = dataNBAtrunc[dataNBAtrunc[:,1] > 110]\n",
    "dataNBAtrunc = dataNBAtrunc[dataNBAtrunc[:,1] < 120]\n",
    "\n",
    "x_trunc = dataNBAtrunc[:,0].reshape(-1,1)\n",
    "y_trunc = dataNBAtrunc[:,1]"
   ]
  },
  {
   "cell_type": "code",
   "execution_count": 299,
   "metadata": {},
   "outputs": [],
   "source": [
    "def pad_ones(x):\n",
    "    placeholder = np.zeros((x.shape[0], 2))\n",
    "    placeholder[:, 0] = np.ones(x.shape[0])\n",
    "    placeholder[:, 1] = x[:,0]\n",
    "    return placeholder\n",
    "\n",
    "from sklearn.preprocessing import scale\n",
    "\n",
    "x = scale(x, axis=0)\n",
    "x_trunc = scale(x_trunc, axis=0)\n",
    "\n",
    "x_padded = pad_ones(x)\n",
    "xtrunc_padded = pad_ones(x_trunc)\n",
    "y = scale(y)\n",
    "y_trunc = scale(y_trunc)"
   ]
  },
  {
   "cell_type": "code",
   "execution_count": 300,
   "metadata": {},
   "outputs": [
    {
     "data": {
      "text/plain": [
       "<matplotlib.collections.PathCollection at 0x125a658d0>"
      ]
     },
     "execution_count": 300,
     "metadata": {},
     "output_type": "execute_result"
    },
    {
     "data": {
      "image/png": "[encoded data removed]",
      "text/plain": [
       "<Figure size 432x288 with 1 Axes>"
      ]
     },
     "metadata": {
      "needs_background": "light"
     },
     "output_type": "display_data"
    }
   ],
   "source": [
    "plt.scatter(x_trunc, y_trunc, s = 5)"
   ]
  },
  {
   "cell_type": "code",
   "execution_count": 302,
   "metadata": {},
   "outputs": [
    {
     "name": "stdout",
     "output_type": "stream",
     "text": [
      "Model 1 slope:     0.8290785087248883\n",
      "Model 1 intercept: 6.482093707145869e-16\n",
      "Model 2 slope:     0.05129606641030624\n",
      "Model 2 intercept: 5.24761222704553e-15\n"
     ]
    },
    {
     "data": {
      "image/png": "[encoded data removed]",
      "text/plain": [
       "<Figure size 432x288 with 1 Axes>"
      ]
     },
     "metadata": {
      "needs_background": "light"
     },
     "output_type": "display_data"
    }
   ],
   "source": [
    "from sklearn.linear_model import LinearRegression\n",
    "\n",
    "model1 = LinearRegression(fit_intercept=True)\n",
    "model2 = LinearRegression(fit_intercept=True)\n",
    "\n",
    "model1.fit(x, y)\n",
    "model2.fit(x_trunc, y_trunc)\n",
    "\n",
    "xfit = np.linspace(-5, 5, 1000)\n",
    "yfit1 = model1.predict(xfit[:, np.newaxis])\n",
    "yfit2 = model2.predict(xfit[:, np.newaxis])\n",
    "\n",
    "plt.scatter(x, y, s= 5)\n",
    "plt.plot(xfit, yfit1, c=\"r\");\n",
    "plt.plot(xfit, yfit2, c=\"m\");\n",
    "\n",
    "\n",
    "print(\"Model 1 slope:    \", model1.coef_[0])\n",
    "print(\"Model 1 intercept:\", model1.intercept_)\n",
    "\n",
    "print(\"Model 2 slope:    \", model2.coef_[0])\n",
    "print(\"Model 2 intercept:\", model2.intercept_)"
   ]
  },
  {
   "cell_type": "code",
   "execution_count": 303,
   "metadata": {},
   "outputs": [
    {
     "name": "stdout",
     "output_type": "stream",
     "text": [
      "0.31262882637051476\n"
     ]
    }
   ],
   "source": [
    "def mean_square_difference(y, y_pred):\n",
    "    return np.mean((y-y_pred)**2)\n",
    "\n",
    "sigma_squared_hat = mean_square_difference(y, model1.predict(x))\n",
    "print(sigma_squared_hat)"
   ]
  },
  {
   "cell_type": "code",
   "execution_count": 310,
   "metadata": {},
   "outputs": [],
   "source": [
    "from scipy.stats import multivariate_normal as normal\n",
    "\n",
    "cov_matrix = np.identity(2)\n",
    "\n",
    "sigma_slope_and_intercept_squared = 0.01\n",
    "\n",
    "cov_matrix[0,0] *= sigma_slope_and_intercept_squared\n",
    "cov_matrix[1,1] *= sigma_slope_and_intercept_squared\n",
    "\n",
    "\n",
    "prior_on_parameters = normal(np.array([0, 0]), cov_matrix)"
   ]
  },
  {
   "cell_type": "code",
   "execution_count": 311,
   "metadata": {},
   "outputs": [],
   "source": [
    "def predictive_model(params, x):\n",
    "    try:\n",
    "        return np.dot(params, x)\n",
    "    except ValueError as VE:\n",
    "        return params[0] + params[1] * x"
   ]
  },
  {
   "cell_type": "code",
   "execution_count": 313,
   "metadata": {},
   "outputs": [
    {
     "name": "stdout",
     "output_type": "stream",
     "text": [
      "Model 1 slope:     0.8290785087248883\n",
      "Model 1 intercept: 6.482093707145869e-16\n",
      "Model 2 slope:     0.05129606641030624\n",
      "Model 2 intercept: 5.24761222704553e-15\n"
     ]
    },
    {
     "data": {
      "image/png": "[encoded data removed]",
      "text/plain": [
       "<Figure size 432x288 with 1 Axes>"
      ]
     },
     "metadata": {
      "needs_background": "light"
     },
     "output_type": "display_data"
    }
   ],
   "source": [
    "xfit = np.linspace(-5, 5, 1000)\n",
    "\n",
    "plt.scatter(x, y, s= 5)\n",
    "\n",
    "for sampled_parameters in prior_on_parameters.rvs(size=10):\n",
    "    plt.plot(xfit, predictive_model(sampled_parameters, xfit), c=\"r\");\n",
    "\n",
    "    \n",
    "plt.plot(xfit, yfit1, c=\"m\");\n",
    "\n",
    "print(\"Model 1 slope:    \", model1.coef_[0])\n",
    "print(\"Model 1 intercept:\", model1.intercept_)\n",
    "\n",
    "print(\"Model 2 slope:    \", model2.coef_[0])\n",
    "print(\"Model 2 intercept:\", model2.intercept_)"
   ]
  },
  {
   "cell_type": "code",
   "execution_count": 315,
   "metadata": {},
   "outputs": [],
   "source": [
    "def update_prior(x, y, sigma_parameter_squared, sigma_model_squared):\n",
    "    xTx = np.dot(x.T, x)\n",
    "    xTy = np.dot(x.T, y)\n",
    "    \n",
    "    new_cov_matrix = np.linalg.inv( (1/sigma_parameter_squared) * np.identity(2) + (1/sigma_model_squared) * xTx )\n",
    "    new_mean = (1/sigma_model_squared) * np.dot(new_cov_matrix, xTy)   \n",
    "    \n",
    "    return new_mean, new_cov_matrix"
   ]
  },
  {
   "cell_type": "code",
   "execution_count": 316,
   "metadata": {},
   "outputs": [
    {
     "name": "stdout",
     "output_type": "stream",
     "text": [
      "(array([4.43092372e-16, 7.20748358e-01]), array([[1.30663320e-03, 2.02807826e-18],\n",
      "       [2.02807826e-18, 1.30663320e-03]]))\n"
     ]
    }
   ],
   "source": [
    "new_parameters = update_prior(x_padded, y, sigma_slope_and_intercept_squared, sigma_squared_hat)\n",
    "posterior_on_parameters = normal(new_parameters[0], new_parameters[1], cov_matrix)\n",
    "print(new_parameters)"
   ]
  },
  {
   "cell_type": "code",
   "execution_count": 317,
   "metadata": {},
   "outputs": [
    {
     "name": "stdout",
     "output_type": "stream",
     "text": [
      "Model 1 slope:     0.8290785087248883\n",
      "Model 1 intercept: 6.482093707145869e-16\n",
      "Model 2 slope:     0.05129606641030624\n",
      "Model 2 intercept: 5.24761222704553e-15\n"
     ]
    },
    {
     "data": {
      "image/png": "[encoded data removed]",
      "text/plain": [
       "<Figure size 432x288 with 1 Axes>"
      ]
     },
     "metadata": {
      "needs_background": "light"
     },
     "output_type": "display_data"
    }
   ],
   "source": [
    "xfit = np.linspace(-5, 5, 1000)\n",
    "\n",
    "plt.scatter(x, y, s= 5)\n",
    "\n",
    "for sampled_parameters in posterior_on_parameters.rvs(size=10):\n",
    "    plt.plot(xfit, predictive_model(sampled_parameters, xfit), c=\"r\");\n",
    "\n",
    "plt.plot(xfit, predictive_model(new_parameters[0], xfit), c=\"b\")\n",
    "\n",
    "plt.plot(xfit, yfit1, c=\"m\");\n",
    "\n",
    "print(\"Model 1 slope:    \", model1.coef_[0])\n",
    "print(\"Model 1 intercept:\", model1.intercept_)\n",
    "\n",
    "print(\"Model 2 slope:    \", model2.coef_[0])\n",
    "print(\"Model 2 intercept:\", model2.intercept_)"
   ]
  },
  {
   "cell_type": "code",
   "execution_count": 322,
   "metadata": {},
   "outputs": [],
   "source": [
    "def likelihood(parameter_values, x, y):\n",
    "    prod = 1\n",
    "    for i in range(x.shape[0]):\n",
    "        p_point = normal(np.dot(parameter_values[0], x[i]), parameter_values[1]).pdf(y[i])\n",
    "        prod *= 2*p_point\n",
    "    return prod"
   ]
  },
  {
   "cell_type": "code",
   "execution_count": 323,
   "metadata": {},
   "outputs": [
    {
     "data": {
      "text/plain": [
       "8.931717177304126e-14"
      ]
     },
     "execution_count": 323,
     "metadata": {},
     "output_type": "execute_result"
    }
   ],
   "source": [
    "likelihood([np.array([0, 0.8336]), sigma_squared_hat], x_padded, y)"
   ]
  },
  {
   "cell_type": "code",
   "execution_count": 337,
   "metadata": {
    "scrolled": true
   },
   "outputs": [
    {
     "name": "stdout",
     "output_type": "stream",
     "text": [
      "7.792292046336263e-163\n",
      "6.9866226758433176e-99\n",
      "8.328932597612979e-122\n",
      "3.623543225468567e-107\n",
      "7.288598266135108e-122\n",
      "7.486985805443528e-107\n",
      "8.853117676350998e-142\n",
      "5.469641767998896e-152\n",
      "3.613491680191755e-83\n",
      "1.3436332466185288e-151\n",
      "1.9094484334091254e-113\n",
      "3.25454015559461e-121\n",
      "1.7153415958153608e-130\n",
      "1.1854176258252786e-146\n",
      "1.7112371777216927e-129\n",
      "8.933664287188662e-88\n",
      "1.0550139029645431e-98\n",
      "1.660237155357056e-121\n",
      "1.794716381824642e-79\n",
      "3.091762593853364e-101\n",
      "1.4947949606741847e-90\n",
      "7.467121247067981e-97\n",
      "1.1454113932249218e-119\n",
      "2.348756736842333e-142\n",
      "3.160857983588104e-95\n",
      "1.799715127618285e-122\n",
      "3.0628695081348355e-120\n",
      "2.4006869175582655e-143\n",
      "3.687445276840277e-166\n",
      "3.2758812574583774e-124\n",
      "7.22695975537097e-98\n",
      "4.2932197490647906e-106\n",
      "3.771816341211391e-107\n",
      "2.085092307640026e-134\n",
      "6.313057662466585e-73\n",
      "1.5069030802684762e-108\n",
      "1.8827019359237442e-140\n",
      "1.1571405469074176e-113\n",
      "1.8064963548359507e-135\n",
      "1.386828940091778e-111\n",
      "4.342612771953637e-97\n",
      "8.372908203939047e-153\n",
      "1.000423734345855e-85\n",
      "5.777850404524127e-112\n",
      "2.7268585232750426e-142\n",
      "4.815575921077945e-97\n",
      "5.6394224824871035e-111\n",
      "4.6949868069210745e-113\n",
      "4.3451811679560675e-89\n",
      "6.7004097330194e-121\n",
      "3.36431524229384e-94\n",
      "2.0498972243446733e-126\n",
      "1.7338821718163282e-73\n",
      "3.578757600189208e-96\n",
      "1.3458228131905194e-137\n",
      "3.360998184615384e-85\n",
      "2.7827970152221084e-102\n",
      "1.135773974348193e-99\n",
      "9.119671230721304e-90\n",
      "2.4898976370701645e-152\n",
      "1.892864108808013e-109\n",
      "7.897256043051872e-139\n",
      "1.7880819330903565e-127\n",
      "6.923942124448235e-149\n",
      "2.2028209740548747e-114\n",
      "1.1828340664485568e-144\n",
      "5.772741636394209e-149\n",
      "2.2220387387136134e-106\n",
      "2.1555588870020678e-130\n",
      "1.7881035919641092e-130\n",
      "5.494165900054276e-158\n",
      "6.583995655653463e-124\n",
      "1.6902828833164006e-102\n",
      "1.1767536571743755e-114\n",
      "2.696535220580055e-103\n",
      "1.942722630176149e-103\n",
      "6.101868560041187e-108\n",
      "4.29727687180176e-91\n",
      "1.1367605357491562e-106\n",
      "2.6220287875797743e-120\n",
      "1.4417730322806368e-116\n",
      "1.2133980257392595e-107\n",
      "1.5087683683655828e-126\n",
      "1.4112039252252806e-102\n",
      "4.3065376620921173e-57\n",
      "2.871633481520225e-77\n",
      "1.3792308186143696e-78\n",
      "3.4562023703567126e-101\n",
      "3.6585879858437777e-69\n",
      "2.9409469212624896e-125\n",
      "8.752816202836903e-126\n",
      "5.786109188196747e-97\n",
      "3.0913877069258356e-95\n",
      "3.4176291340394032e-74\n",
      "2.194115345861604e-99\n",
      "3.945366916709703e-133\n",
      "6.627877162865562e-114\n",
      "2.251286390581056e-161\n",
      "3.0475205630163166e-133\n",
      "6.0138473095836494e-148\n",
      "1.0830820261284648e-102\n",
      "5.026947916985923e-115\n",
      "1.1104537373709234e-112\n",
      "1.934688726070364e-86\n",
      "9.87525964140225e-128\n",
      "9.10181058007215e-128\n",
      "1.0252042108344549e-112\n",
      "2.6879736980274655e-182\n",
      "1.0598908664770362e-152\n",
      "6.092633613284053e-132\n",
      "5.737430161043284e-81\n",
      "2.2557188933368657e-119\n",
      "1.9186732262125272e-135\n",
      "4.1274416206671176e-117\n",
      "5.06604560076163e-158\n",
      "1.9426352879510124e-110\n",
      "8.864934532371407e-111\n",
      "3.110115385594489e-131\n",
      "6.4629049038251334e-108\n",
      "2.0747132959837045e-113\n",
      "2.6739153098644423e-142\n",
      "5.224458987949836e-108\n",
      "2.65139004972438e-91\n",
      "1.569047218258248e-129\n",
      "7.32693348357167e-118\n",
      "2.8423402759160894e-133\n",
      "1.107679925150284e-130\n",
      "2.550253075020682e-122\n",
      "7.605111184003702e-150\n",
      "2.9668213284676335e-61\n",
      "7.08889002503794e-112\n",
      "5.174255666236205e-166\n",
      "4.169392558596834e-154\n",
      "3.190947618523928e-123\n",
      "1.2138861337938345e-87\n",
      "3.2814261540887024e-78\n",
      "1.4405656355516625e-132\n",
      "3.319560851068763e-96\n",
      "2.671321660049658e-67\n",
      "1.0023456592340997e-96\n",
      "1.7826220523655146e-135\n",
      "5.879011735685945e-117\n",
      "3.2828096697870385e-130\n",
      "3.419123969821781e-128\n",
      "1.8161334609672804e-126\n",
      "1.978638346791263e-103\n",
      "4.487230991889183e-122\n",
      "4.122369736537181e-86\n",
      "2.420387152494525e-134\n",
      "2.2347324975077778e-110\n",
      "3.232027559883217e-91\n",
      "2.5775400748645643e-135\n",
      "7.124593774319194e-129\n",
      "1.9169855171297868e-118\n",
      "9.216873921216329e-193\n",
      "4.595666336485257e-92\n",
      "1.121153481177482e-146\n",
      "1.9477795660765263e-135\n",
      "5.1623320060894966e-93\n",
      "1.5721858163776356e-86\n",
      "5.5446879137821567e-104\n",
      "3.021492979990852e-149\n",
      "1.1975312060189748e-106\n",
      "3.583938717784899e-117\n",
      "1.0366153250831258e-91\n",
      "1.0379537730570468e-152\n",
      "2.081618429985654e-139\n",
      "1.6994427727910011e-127\n",
      "2.570696763041459e-114\n",
      "4.7344778842156104e-113\n",
      "1.0664988132175272e-128\n",
      "6.889527994849941e-113\n",
      "1.1311032107287108e-89\n",
      "7.114390166458592e-142\n",
      "2.4183394236131308e-141\n",
      "2.0168172640277033e-131\n",
      "6.805352774933279e-90\n",
      "1.2267780488403944e-109\n",
      "1.7573214396051169e-112\n",
      "2.035737253631097e-121\n",
      "1.6600750910354555e-145\n",
      "2.093579092185539e-133\n",
      "7.362066389088445e-94\n",
      "1.8852003120165912e-111\n"
     ]
    },
    {
     "ename": "KeyboardInterrupt",
     "evalue": "",
     "output_type": "error",
     "traceback": [
      "\u001b[0;31m---------------------------------------------------------------------------\u001b[0m",
      "\u001b[0;31mKeyboardInterrupt\u001b[0m                         Traceback (most recent call last)",
      "\u001b[0;32m<ipython-input-337-41288e183c3c>\u001b[0m in \u001b[0;36m<module>\u001b[0;34m\u001b[0m\n\u001b[1;32m     12\u001b[0m                 \u001b[0mprint\u001b[0m\u001b[0;34m(\u001b[0m\u001b[0mL\u001b[0m\u001b[0;34m)\u001b[0m\u001b[0;34m\u001b[0m\u001b[0;34m\u001b[0m\u001b[0m\n\u001b[1;32m     13\u001b[0m     \u001b[0;32mreturn\u001b[0m \u001b[0moutput\u001b[0m\u001b[0;34m\u001b[0m\u001b[0;34m\u001b[0m\u001b[0m\n\u001b[0;32m---> 14\u001b[0;31m \u001b[0mposterior_sample\u001b[0m \u001b[0;34m=\u001b[0m \u001b[0mrejection_sampling_algorithm\u001b[0m\u001b[0;34m(\u001b[0m\u001b[0;34m)\u001b[0m\u001b[0;34m\u001b[0m\u001b[0;34m\u001b[0m\u001b[0m\n\u001b[0m\u001b[1;32m     15\u001b[0m \u001b[0mprint\u001b[0m\u001b[0;34m(\u001b[0m\u001b[0mposterior_sample\u001b[0m\u001b[0;34m)\u001b[0m\u001b[0;34m\u001b[0m\u001b[0;34m\u001b[0m\u001b[0m\n",
      "\u001b[0;32m<ipython-input-337-41288e183c3c>\u001b[0m in \u001b[0;36mrejection_sampling_algorithm\u001b[0;34m()\u001b[0m\n\u001b[1;32m      5\u001b[0m         \u001b[0;32mfor\u001b[0m \u001b[0msample\u001b[0m \u001b[0;32min\u001b[0m \u001b[0msamples\u001b[0m\u001b[0;34m:\u001b[0m\u001b[0;34m\u001b[0m\u001b[0;34m\u001b[0m\u001b[0m\n\u001b[1;32m      6\u001b[0m             \u001b[0mbit\u001b[0m \u001b[0;34m=\u001b[0m \u001b[0mnp\u001b[0m\u001b[0;34m.\u001b[0m\u001b[0mrandom\u001b[0m\u001b[0;34m.\u001b[0m\u001b[0muniform\u001b[0m\u001b[0;34m(\u001b[0m\u001b[0;36m0\u001b[0m\u001b[0;34m,\u001b[0m\u001b[0;36m1\u001b[0m\u001b[0;34m)\u001b[0m\u001b[0;34m\u001b[0m\u001b[0;34m\u001b[0m\u001b[0m\n\u001b[0;32m----> 7\u001b[0;31m             \u001b[0mL\u001b[0m \u001b[0;34m=\u001b[0m \u001b[0mlikelihood\u001b[0m\u001b[0;34m(\u001b[0m\u001b[0;34m[\u001b[0m\u001b[0mnp\u001b[0m\u001b[0;34m.\u001b[0m\u001b[0marray\u001b[0m\u001b[0;34m(\u001b[0m\u001b[0msample\u001b[0m\u001b[0;34m)\u001b[0m\u001b[0;34m,\u001b[0m \u001b[0msigma_squared_hat\u001b[0m\u001b[0;34m]\u001b[0m\u001b[0;34m,\u001b[0m \u001b[0mx_padded\u001b[0m\u001b[0;34m,\u001b[0m \u001b[0my\u001b[0m\u001b[0;34m)\u001b[0m\u001b[0;34m\u001b[0m\u001b[0;34m\u001b[0m\u001b[0m\n\u001b[0m\u001b[1;32m      8\u001b[0m             \u001b[0;32mif\u001b[0m \u001b[0mbit\u001b[0m \u001b[0;34m<\u001b[0m \u001b[0mL\u001b[0m\u001b[0;34m/\u001b[0m \u001b[0;34m(\u001b[0m\u001b[0;36m8.931717177304126e-14\u001b[0m\u001b[0;34m)\u001b[0m\u001b[0;34m:\u001b[0m\u001b[0;34m\u001b[0m\u001b[0;34m\u001b[0m\u001b[0m\n\u001b[1;32m      9\u001b[0m                 \u001b[0moutput\u001b[0m\u001b[0;34m.\u001b[0m\u001b[0mappend\u001b[0m\u001b[0;34m(\u001b[0m\u001b[0msample\u001b[0m\u001b[0;34m)\u001b[0m\u001b[0;34m\u001b[0m\u001b[0;34m\u001b[0m\u001b[0m\n",
      "\u001b[0;32m<ipython-input-322-6411c879b79d>\u001b[0m in \u001b[0;36mlikelihood\u001b[0;34m(parameter_values, x, y)\u001b[0m\n\u001b[1;32m      2\u001b[0m     \u001b[0mprod\u001b[0m \u001b[0;34m=\u001b[0m \u001b[0;36m1\u001b[0m\u001b[0;34m\u001b[0m\u001b[0;34m\u001b[0m\u001b[0m\n\u001b[1;32m      3\u001b[0m     \u001b[0;32mfor\u001b[0m \u001b[0mi\u001b[0m \u001b[0;32min\u001b[0m \u001b[0mrange\u001b[0m\u001b[0;34m(\u001b[0m\u001b[0mx\u001b[0m\u001b[0;34m.\u001b[0m\u001b[0mshape\u001b[0m\u001b[0;34m[\u001b[0m\u001b[0;36m0\u001b[0m\u001b[0;34m]\u001b[0m\u001b[0;34m)\u001b[0m\u001b[0;34m:\u001b[0m\u001b[0;34m\u001b[0m\u001b[0;34m\u001b[0m\u001b[0m\n\u001b[0;32m----> 4\u001b[0;31m         \u001b[0mp_point\u001b[0m \u001b[0;34m=\u001b[0m \u001b[0mnormal\u001b[0m\u001b[0;34m(\u001b[0m\u001b[0mnp\u001b[0m\u001b[0;34m.\u001b[0m\u001b[0mdot\u001b[0m\u001b[0;34m(\u001b[0m\u001b[0mparameter_values\u001b[0m\u001b[0;34m[\u001b[0m\u001b[0;36m0\u001b[0m\u001b[0;34m]\u001b[0m\u001b[0;34m,\u001b[0m \u001b[0mx\u001b[0m\u001b[0;34m[\u001b[0m\u001b[0mi\u001b[0m\u001b[0;34m]\u001b[0m\u001b[0;34m)\u001b[0m\u001b[0;34m,\u001b[0m \u001b[0mparameter_values\u001b[0m\u001b[0;34m[\u001b[0m\u001b[0;36m1\u001b[0m\u001b[0;34m]\u001b[0m\u001b[0;34m)\u001b[0m\u001b[0;34m.\u001b[0m\u001b[0mpdf\u001b[0m\u001b[0;34m(\u001b[0m\u001b[0my\u001b[0m\u001b[0;34m[\u001b[0m\u001b[0mi\u001b[0m\u001b[0;34m]\u001b[0m\u001b[0;34m)\u001b[0m\u001b[0;34m\u001b[0m\u001b[0;34m\u001b[0m\u001b[0m\n\u001b[0m\u001b[1;32m      5\u001b[0m         \u001b[0mprod\u001b[0m \u001b[0;34m*=\u001b[0m \u001b[0;36m2\u001b[0m\u001b[0;34m*\u001b[0m\u001b[0mp_point\u001b[0m\u001b[0;34m\u001b[0m\u001b[0;34m\u001b[0m\u001b[0m\n\u001b[1;32m      6\u001b[0m     \u001b[0;32mreturn\u001b[0m \u001b[0mprod\u001b[0m\u001b[0;34m\u001b[0m\u001b[0;34m\u001b[0m\u001b[0m\n",
      "\u001b[0;32m~/miniconda3/lib/python3.7/site-packages/scipy/stats/_multivariate.py\u001b[0m in \u001b[0;36m__call__\u001b[0;34m(self, mean, cov, allow_singular, seed)\u001b[0m\n\u001b[1;32m    361\u001b[0m         return multivariate_normal_frozen(mean, cov,\n\u001b[1;32m    362\u001b[0m                                           \u001b[0mallow_singular\u001b[0m\u001b[0;34m=\u001b[0m\u001b[0mallow_singular\u001b[0m\u001b[0;34m,\u001b[0m\u001b[0;34m\u001b[0m\u001b[0;34m\u001b[0m\u001b[0m\n\u001b[0;32m--> 363\u001b[0;31m                                           seed=seed)\n\u001b[0m\u001b[1;32m    364\u001b[0m \u001b[0;34m\u001b[0m\u001b[0m\n\u001b[1;32m    365\u001b[0m     \u001b[0;32mdef\u001b[0m \u001b[0m_process_parameters\u001b[0m\u001b[0;34m(\u001b[0m\u001b[0mself\u001b[0m\u001b[0;34m,\u001b[0m \u001b[0mdim\u001b[0m\u001b[0;34m,\u001b[0m \u001b[0mmean\u001b[0m\u001b[0;34m,\u001b[0m \u001b[0mcov\u001b[0m\u001b[0;34m)\u001b[0m\u001b[0;34m:\u001b[0m\u001b[0;34m\u001b[0m\u001b[0;34m\u001b[0m\u001b[0m\n",
      "\u001b[0;32m~/miniconda3/lib/python3.7/site-packages/scipy/stats/_multivariate.py\u001b[0m in \u001b[0;36m__init__\u001b[0;34m(self, mean, cov, allow_singular, seed, maxpts, abseps, releps)\u001b[0m\n\u001b[1;32m    731\u001b[0m \u001b[0;34m\u001b[0m\u001b[0m\n\u001b[1;32m    732\u001b[0m         \"\"\"\n\u001b[0;32m--> 733\u001b[0;31m         \u001b[0mself\u001b[0m\u001b[0;34m.\u001b[0m\u001b[0m_dist\u001b[0m \u001b[0;34m=\u001b[0m \u001b[0mmultivariate_normal_gen\u001b[0m\u001b[0;34m(\u001b[0m\u001b[0mseed\u001b[0m\u001b[0;34m)\u001b[0m\u001b[0;34m\u001b[0m\u001b[0;34m\u001b[0m\u001b[0m\n\u001b[0m\u001b[1;32m    734\u001b[0m         self.dim, self.mean, self.cov = self._dist._process_parameters(\n\u001b[1;32m    735\u001b[0m                                                             None, mean, cov)\n",
      "\u001b[0;32m~/miniconda3/lib/python3.7/site-packages/scipy/stats/_multivariate.py\u001b[0m in \u001b[0;36m__init__\u001b[0;34m(self, seed)\u001b[0m\n\u001b[1;32m    350\u001b[0m     \u001b[0;32mdef\u001b[0m \u001b[0m__init__\u001b[0m\u001b[0;34m(\u001b[0m\u001b[0mself\u001b[0m\u001b[0;34m,\u001b[0m \u001b[0mseed\u001b[0m\u001b[0;34m=\u001b[0m\u001b[0;32mNone\u001b[0m\u001b[0;34m)\u001b[0m\u001b[0;34m:\u001b[0m\u001b[0;34m\u001b[0m\u001b[0;34m\u001b[0m\u001b[0m\n\u001b[1;32m    351\u001b[0m         \u001b[0msuper\u001b[0m\u001b[0;34m(\u001b[0m\u001b[0mmultivariate_normal_gen\u001b[0m\u001b[0;34m,\u001b[0m \u001b[0mself\u001b[0m\u001b[0;34m)\u001b[0m\u001b[0;34m.\u001b[0m\u001b[0m__init__\u001b[0m\u001b[0;34m(\u001b[0m\u001b[0mseed\u001b[0m\u001b[0;34m)\u001b[0m\u001b[0;34m\u001b[0m\u001b[0;34m\u001b[0m\u001b[0m\n\u001b[0;32m--> 352\u001b[0;31m         \u001b[0mself\u001b[0m\u001b[0;34m.\u001b[0m\u001b[0m__doc__\u001b[0m \u001b[0;34m=\u001b[0m \u001b[0mdoccer\u001b[0m\u001b[0;34m.\u001b[0m\u001b[0mdocformat\u001b[0m\u001b[0;34m(\u001b[0m\u001b[0mself\u001b[0m\u001b[0;34m.\u001b[0m\u001b[0m__doc__\u001b[0m\u001b[0;34m,\u001b[0m \u001b[0mmvn_docdict_params\u001b[0m\u001b[0;34m)\u001b[0m\u001b[0;34m\u001b[0m\u001b[0;34m\u001b[0m\u001b[0m\n\u001b[0m\u001b[1;32m    353\u001b[0m \u001b[0;34m\u001b[0m\u001b[0m\n\u001b[1;32m    354\u001b[0m     \u001b[0;32mdef\u001b[0m \u001b[0m__call__\u001b[0m\u001b[0;34m(\u001b[0m\u001b[0mself\u001b[0m\u001b[0;34m,\u001b[0m \u001b[0mmean\u001b[0m\u001b[0;34m=\u001b[0m\u001b[0;32mNone\u001b[0m\u001b[0;34m,\u001b[0m \u001b[0mcov\u001b[0m\u001b[0;34m=\u001b[0m\u001b[0;36m1\u001b[0m\u001b[0;34m,\u001b[0m \u001b[0mallow_singular\u001b[0m\u001b[0;34m=\u001b[0m\u001b[0;32mFalse\u001b[0m\u001b[0;34m,\u001b[0m \u001b[0mseed\u001b[0m\u001b[0;34m=\u001b[0m\u001b[0;32mNone\u001b[0m\u001b[0;34m)\u001b[0m\u001b[0;34m:\u001b[0m\u001b[0;34m\u001b[0m\u001b[0;34m\u001b[0m\u001b[0m\n",
      "\u001b[0;32m~/miniconda3/lib/python3.7/site-packages/scipy/_lib/doccer.py\u001b[0m in \u001b[0;36mdocformat\u001b[0;34m(docstring, docdict)\u001b[0m\n\u001b[1;32m     48\u001b[0m     \u001b[0;32mif\u001b[0m \u001b[0;32mnot\u001b[0m \u001b[0mdocdict\u001b[0m\u001b[0;34m:\u001b[0m\u001b[0;34m\u001b[0m\u001b[0;34m\u001b[0m\u001b[0m\n\u001b[1;32m     49\u001b[0m         \u001b[0;32mreturn\u001b[0m \u001b[0mdocstring\u001b[0m\u001b[0;34m\u001b[0m\u001b[0;34m\u001b[0m\u001b[0m\n\u001b[0;32m---> 50\u001b[0;31m     \u001b[0mlines\u001b[0m \u001b[0;34m=\u001b[0m \u001b[0mdocstring\u001b[0m\u001b[0;34m.\u001b[0m\u001b[0mexpandtabs\u001b[0m\u001b[0;34m(\u001b[0m\u001b[0;34m)\u001b[0m\u001b[0;34m.\u001b[0m\u001b[0msplitlines\u001b[0m\u001b[0;34m(\u001b[0m\u001b[0;34m)\u001b[0m\u001b[0;34m\u001b[0m\u001b[0;34m\u001b[0m\u001b[0m\n\u001b[0m\u001b[1;32m     51\u001b[0m     \u001b[0;31m# Find the minimum indent of the main docstring, after first line\u001b[0m\u001b[0;34m\u001b[0m\u001b[0;34m\u001b[0m\u001b[0;34m\u001b[0m\u001b[0m\n\u001b[1;32m     52\u001b[0m     \u001b[0;32mif\u001b[0m \u001b[0mlen\u001b[0m\u001b[0;34m(\u001b[0m\u001b[0mlines\u001b[0m\u001b[0;34m)\u001b[0m \u001b[0;34m<\u001b[0m \u001b[0;36m2\u001b[0m\u001b[0;34m:\u001b[0m\u001b[0;34m\u001b[0m\u001b[0;34m\u001b[0m\u001b[0m\n",
      "\u001b[0;31mKeyboardInterrupt\u001b[0m: "
     ]
    }
   ],
   "source": [
    "def rejection_sampling_algorithm():\n",
    "    output = []\n",
    "    while len(output) < 10:\n",
    "        samples = prior_on_parameters.rvs(size=10)\n",
    "        for sample in samples:\n",
    "            bit = np.random.uniform(0,1)\n",
    "            L = likelihood([np.array(sample), sigma_squared_hat], x_padded, y)\n",
    "            if bit < L/ (8.931717177304126e-14):\n",
    "                output.append(sample)\n",
    "                print(\"sampled\")\n",
    "            else:\n",
    "                print(L)\n",
    "    return output\n",
    "posterior_sample = rejection_sampling_algorithm()\n",
    "print(posterior_sample)"
   ]
  },
  {
   "cell_type": "code",
   "execution_count": 338,
   "metadata": {},
   "outputs": [
    {
     "name": "stdout",
     "output_type": "stream",
     "text": [
      "Model 1 slope:     0.8290785087248883\n",
      "Model 1 intercept: 6.482093707145869e-16\n",
      "Model 2 slope:     0.05129606641030624\n",
      "Model 2 intercept: 5.24761222704553e-15\n"
     ]
    },
    {
     "data": {
      "image/png": "[encoded data removed]",
      "text/plain": [
       "<Figure size 432x288 with 1 Axes>"
      ]
     },
     "metadata": {
      "needs_background": "light"
     },
     "output_type": "display_data"
    }
   ],
   "source": [
    "xfit = np.linspace(-5, 5, 1000)\n",
    "\n",
    "plt.scatter(x, y, s= 5)\n",
    "\n",
    "for sampled_parameters in posterior_sample:\n",
    "    plt.plot(xfit, predictive_model(sampled_parameters, xfit), c=\"r\");\n",
    "\n",
    "plt.plot(xfit, predictive_model(new_parameters[0], xfit), c=\"b\")\n",
    "\n",
    "plt.plot(xfit, yfit1, c=\"m\");\n",
    "\n",
    "print(\"Model 1 slope:    \", model1.coef_[0])\n",
    "print(\"Model 1 intercept:\", model1.intercept_)\n",
    "\n",
    "print(\"Model 2 slope:    \", model2.coef_[0])\n",
    "print(\"Model 2 intercept:\", model2.intercept_)"
   ]
  },
  {
   "cell_type": "code",
   "execution_count": null,
   "metadata": {},
   "outputs": [],
   "source": []
  }
 ],
 "metadata": {
  "kernelspec": {
   "display_name": "Python 3",
   "language": "python",
   "name": "python3"
  },
  "language_info": {
   "codemirror_mode": {
    "name": "ipython",
    "version": 3
   },
   "file_extension": ".py",
   "mimetype": "text/x-python",
   "name": "python",
   "nbconvert_exporter": "python",
   "pygments_lexer": "ipython3",
   "version": "3.7.6"
  }
 },
 "nbformat": 4,
 "nbformat_minor": 4
}
