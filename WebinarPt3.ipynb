{
 "cells": [
  {
   "cell_type": "code",
   "execution_count": 186,
   "metadata": {},
   "outputs": [],
   "source": [
    "import keras\n",
    "import keras.layers as l\n",
    "import keras.models as m\n",
    "import keras.optimizers as o\n",
    "import numpy as np\n",
    "import matplotlib.pyplot as plt\n",
    "from keras.utils import to_categorical\n",
    "%matplotlib inline"
   ]
  },
  {
   "cell_type": "code",
   "execution_count": 9,
   "metadata": {},
   "outputs": [],
   "source": [
    "from keras.datasets import cifar10\n",
    "(x_train,y_train), (x_test,y_test) = cifar10.load_data()\n",
    "x_train = (1/255.0)*x_train\n",
    "x_test = (1/255.0)*x_test\n",
    "y_train = to_categorical(y_train.reshape([-1, 1]))\n",
    "y_test = to_categorical(y_test.reshape([-1, 1]))"
   ]
  },
  {
   "cell_type": "code",
   "execution_count": 10,
   "metadata": {},
   "outputs": [
    {
     "data": {
      "text/plain": [
       "<matplotlib.image.AxesImage at 0x15062cd10>"
      ]
     },
     "execution_count": 10,
     "metadata": {},
     "output_type": "execute_result"
    },
    {
     "data": {
      "image/png": "[encoded data removed]",
      "text/plain": [
       "<Figure size 432x288 with 1 Axes>"
      ]
     },
     "metadata": {
      "needs_background": "light"
     },
     "output_type": "display_data"
    }
   ],
   "source": [
    "plt.imshow(x_train[0])"
   ]
  },
  {
   "cell_type": "code",
   "execution_count": 13,
   "metadata": {},
   "outputs": [
    {
     "name": "stdout",
     "output_type": "stream",
     "text": [
      "Model: \"sequential\"\n",
      "_________________________________________________________________\n",
      "Layer (type)                 Output Shape              Param #   \n",
      "=================================================================\n",
      "conv2d (Conv2D)              (None, 32, 32, 32)        896       \n",
      "_________________________________________________________________\n",
      "max_pooling2d (MaxPooling2D) (None, 10, 10, 32)        0         \n",
      "_________________________________________________________________\n",
      "conv2d_1 (Conv2D)            (None, 10, 10, 64)        18496     \n",
      "_________________________________________________________________\n",
      "max_pooling2d_1 (MaxPooling2 (None, 3, 3, 64)          0         \n",
      "_________________________________________________________________\n",
      "flatten (Flatten)            (None, 576)               0         \n",
      "_________________________________________________________________\n",
      "dense (Dense)                (None, 32)                18464     \n",
      "_________________________________________________________________\n",
      "dense_1 (Dense)              (None, 10)                330       \n",
      "=================================================================\n",
      "Total params: 38,186\n",
      "Trainable params: 38,186\n",
      "Non-trainable params: 0\n",
      "_________________________________________________________________\n"
     ]
    }
   ],
   "source": [
    "model = m.Sequential([l.Conv2D(32, (3,3), padding='same', activation='relu', input_shape=(32,32,3)),\n",
    "l.MaxPooling2D((3,3)),\n",
    "l.Conv2D(64, (3,3), padding='same', activation='relu'),\n",
    "l.MaxPooling2D((3,3)),\n",
    "l.Flatten(),\n",
    "l.Dense(32, activation='relu'),\n",
    "l.Dense(10, activation=\"softmax\")])\n",
    "model.summary()"
   ]
  },
  {
   "cell_type": "code",
   "execution_count": 16,
   "metadata": {},
   "outputs": [],
   "source": [
    "model.compile(optimizer=o.Adam(),\n",
    "loss='categorical_crossentropy',\n",
    "metrics=['accuracy'])"
   ]
  },
  {
   "cell_type": "code",
   "execution_count": 17,
   "metadata": {},
   "outputs": [
    {
     "name": "stdout",
     "output_type": "stream",
     "text": [
      "Epoch 1/10\n",
      "1563/1563 [==============================] - 20s 13ms/step - loss: 1.5406 - accuracy: 0.4434 - val_loss: 1.2693 - val_accuracy: 0.5455\n",
      "Epoch 2/10\n",
      "1563/1563 [==============================] - 18s 12ms/step - loss: 1.1939 - accuracy: 0.5809 - val_loss: 1.1210 - val_accuracy: 0.6012\n",
      "Epoch 3/10\n",
      "1563/1563 [==============================] - 20s 12ms/step - loss: 1.0705 - accuracy: 0.6285 - val_loss: 1.0867 - val_accuracy: 0.6161\n",
      "Epoch 4/10\n",
      "1563/1563 [==============================] - 22s 14ms/step - loss: 0.9955 - accuracy: 0.6547 - val_loss: 1.0196 - val_accuracy: 0.6449\n",
      "Epoch 5/10\n",
      "1563/1563 [==============================] - 24s 15ms/step - loss: 0.9424 - accuracy: 0.6725 - val_loss: 0.9414 - val_accuracy: 0.6787\n",
      "Epoch 6/10\n",
      "1563/1563 [==============================] - 24s 16ms/step - loss: 0.8973 - accuracy: 0.6891 - val_loss: 0.9762 - val_accuracy: 0.6674\n",
      "Epoch 7/10\n",
      "1563/1563 [==============================] - 27s 17ms/step - loss: 0.8662 - accuracy: 0.7000 - val_loss: 0.9268 - val_accuracy: 0.6801\n",
      "Epoch 8/10\n",
      "1563/1563 [==============================] - 28s 18ms/step - loss: 0.8359 - accuracy: 0.7098 - val_loss: 0.9556 - val_accuracy: 0.6750\n",
      "Epoch 9/10\n",
      "1563/1563 [==============================] - 29s 19ms/step - loss: 0.8071 - accuracy: 0.7193 - val_loss: 0.9034 - val_accuracy: 0.6931\n",
      "Epoch 10/10\n",
      "1563/1563 [==============================] - 30s 19ms/step - loss: 0.7870 - accuracy: 0.7271 - val_loss: 0.9074 - val_accuracy: 0.6920\n"
     ]
    },
    {
     "data": {
      "text/plain": [
       "<tensorflow.python.keras.callbacks.History at 0x143f92290>"
      ]
     },
     "execution_count": 17,
     "metadata": {},
     "output_type": "execute_result"
    }
   ],
   "source": [
    "model.fit(x_train,y_train, epochs=10, validation_data = (x_test,y_test))"
   ]
  },
  {
   "cell_type": "code",
   "execution_count": 166,
   "metadata": {},
   "outputs": [
    {
     "data": {
      "text/plain": [
       "<matplotlib.image.AxesImage at 0x15db15850>"
      ]
     },
     "execution_count": 166,
     "metadata": {},
     "output_type": "execute_result"
    },
    {
     "data": {
      "image/png": "[encoded data removed]",
      "text/plain": [
       "<Figure size 432x288 with 1 Axes>"
      ]
     },
     "metadata": {
      "needs_background": "light"
     },
     "output_type": "display_data"
    }
   ],
   "source": [
    "from keras.datasets import mnist\n",
    "(x_train,y_train), (x_test,y_test) = mnist.load_data()\n",
    "x_train = (1/255.0)*x_train\n",
    "x_test = (1/255.0)*x_test\n",
    "y_train = to_categorical(y_train.reshape([-1, 1]))\n",
    "y_test = to_categorical(y_test.reshape([-1, 1]))\n",
    "plt.imshow(x_train[0])"
   ]
  },
  {
   "cell_type": "code",
   "execution_count": 145,
   "metadata": {},
   "outputs": [
    {
     "name": "stdout",
     "output_type": "stream",
     "text": [
      "Model: \"model_14\"\n",
      "_________________________________________________________________\n",
      "Layer (type)                 Output Shape              Param #   \n",
      "=================================================================\n",
      "input_8 (InputLayer)         [(None, 28, 28)]          0         \n",
      "_________________________________________________________________\n",
      "flatten_2 (Flatten)          (None, 784)               0         \n",
      "_________________________________________________________________\n",
      "dense_21 (Dense)             (None, 256)               200960    \n",
      "_________________________________________________________________\n",
      "dense_22 (Dense)             (None, 256)               65792     \n",
      "_________________________________________________________________\n",
      "dense_23 (Dense)             (None, 10)                2570      \n",
      "=================================================================\n",
      "Total params: 269,322\n",
      "Trainable params: 269,322\n",
      "Non-trainable params: 0\n",
      "_________________________________________________________________\n"
     ]
    }
   ],
   "source": [
    "input_layer = l.Input((28,28))\n",
    "Intermediate_layer = l.Flatten()(input_layer)\n",
    "Intermediate_layer=l.Dense(256, activation='relu')(Intermediate_layer)\n",
    "Intermediate_layer=l.Dense(256, activation='relu')(Intermediate_layer)\n",
    "output_layer = l.Dense(10, activation=\"softmax\")(Intermediate_layer)\n",
    "model = m.Model(input_layer, output_layer)\n",
    "model.summary()\n",
    "model.compile(optimizer=o.SGD(),\n",
    "loss='categorical_crossentropy',\n",
    "metrics=['accuracy'])"
   ]
  },
  {
   "cell_type": "code",
   "execution_count": 146,
   "metadata": {},
   "outputs": [
    {
     "name": "stdout",
     "output_type": "stream",
     "text": [
      "Epoch 1/5\n",
      "1875/1875 [==============================] - 3s 2ms/step - loss: 0.6011 - accuracy: 0.8469 - val_loss: 0.2964 - val_accuracy: 0.9163\n",
      "Epoch 2/5\n",
      "1875/1875 [==============================] - 3s 2ms/step - loss: 0.2827 - accuracy: 0.9198 - val_loss: 0.2453 - val_accuracy: 0.9279\n",
      "Epoch 3/5\n",
      "1875/1875 [==============================] - 3s 1ms/step - loss: 0.2323 - accuracy: 0.9337 - val_loss: 0.2130 - val_accuracy: 0.9393\n",
      "Epoch 4/5\n",
      "1875/1875 [==============================] - 3s 2ms/step - loss: 0.1989 - accuracy: 0.9440 - val_loss: 0.1796 - val_accuracy: 0.9465\n",
      "Epoch 5/5\n",
      "1875/1875 [==============================] - 3s 2ms/step - loss: 0.1737 - accuracy: 0.9507 - val_loss: 0.1612 - val_accuracy: 0.9527\n"
     ]
    },
    {
     "data": {
      "text/plain": [
       "<tensorflow.python.keras.callbacks.History at 0x14c24a550>"
      ]
     },
     "execution_count": 146,
     "metadata": {},
     "output_type": "execute_result"
    }
   ],
   "source": [
    "model.fit(x_train,y_train, epochs=5, validation_data = (x_test,y_test))"
   ]
  },
  {
   "cell_type": "code",
   "execution_count": 111,
   "metadata": {},
   "outputs": [],
   "source": [
    "import h5py\n",
    "from skimage.transform import warp, AffineTransform #pip install scikit-image\n",
    "i = 1.3\n",
    "j = 0.5\n",
    "d = 4\n",
    "f = -5\n",
    "x_new = x_train.copy()\n",
    "for q in range(x_train.shape[0]):\n",
    "    x_new[q,:,:] = warp(x_train[q,:,:], AffineTransform(scale = (i,j),translation=(-d,-f)).inverse)"
   ]
  },
  {
   "cell_type": "code",
   "execution_count": 112,
   "metadata": {},
   "outputs": [
    {
     "data": {
      "image/png": "[encoded data removed]",
      "text/plain": [
       "<Figure size 432x288 with 1 Axes>"
      ]
     },
     "metadata": {
      "needs_background": "light"
     },
     "output_type": "display_data"
    }
   ],
   "source": [
    "plt.imshow(x_new[5])\n",
    "plt.show()"
   ]
  },
  {
   "cell_type": "code",
   "execution_count": 113,
   "metadata": {},
   "outputs": [
    {
     "data": {
      "image/png": "[encoded data removed]",
      "text/plain": [
       "<Figure size 432x288 with 1 Axes>"
      ]
     },
     "metadata": {
      "needs_background": "light"
     },
     "output_type": "display_data"
    }
   ],
   "source": [
    "plt.imshow(x_train[5])\n",
    "plt.show()"
   ]
  },
  {
   "cell_type": "code",
   "execution_count": 163,
   "metadata": {},
   "outputs": [
    {
     "name": "stdout",
     "output_type": "stream",
     "text": [
      "1875/1875 [==============================] - 2s 1ms/step - loss: 4.1282 - accuracy: 0.2315\n",
      "[4.128215789794922, 0.23145000636577606]\n",
      "1875/1875 [==============================] - 2s 1ms/step - loss: 0.1607 - accuracy: 0.9537\n",
      "[0.16065548360347748, 0.9537000060081482]\n",
      "(60000, 28, 28, 1)\n"
     ]
    }
   ],
   "source": [
    "print(model.evaluate(x_new, y_train))\n",
    "print(model.evaluate(x_train, y_train))\n",
    "print(x_train.shape)\n",
    "x_train = x_train.reshape(60000, 28,28,1)\n",
    "x_new = x_new.reshape(60000, 28, 28,1)"
   ]
  },
  {
   "cell_type": "code",
   "execution_count": 169,
   "metadata": {},
   "outputs": [
    {
     "name": "stdout",
     "output_type": "stream",
     "text": [
      "Model: \"model_20\"\n",
      "_________________________________________________________________\n",
      "Layer (type)                 Output Shape              Param #   \n",
      "=================================================================\n",
      "input_17 (InputLayer)        [(None, 28, 28, 1)]       0         \n",
      "_________________________________________________________________\n",
      "conv2d_26 (Conv2D)           (None, 28, 28, 128)       1280      \n",
      "_________________________________________________________________\n",
      "leaky_re_lu_24 (LeakyReLU)   (None, 28, 28, 128)       0         \n",
      "_________________________________________________________________\n",
      "max_pooling2d_20 (MaxPooling (None, 9, 9, 128)         0         \n",
      "_________________________________________________________________\n",
      "dropout_39 (Dropout)         (None, 9, 9, 128)         0         \n",
      "_________________________________________________________________\n",
      "conv2d_27 (Conv2D)           (None, 9, 9, 128)         147584    \n",
      "_________________________________________________________________\n",
      "leaky_re_lu_25 (LeakyReLU)   (None, 9, 9, 128)         0         \n",
      "_________________________________________________________________\n",
      "max_pooling2d_21 (MaxPooling (None, 3, 3, 128)         0         \n",
      "_________________________________________________________________\n",
      "dropout_40 (Dropout)         (None, 3, 3, 128)         0         \n",
      "_________________________________________________________________\n",
      "conv2d_28 (Conv2D)           (None, 3, 3, 64)          73792     \n",
      "_________________________________________________________________\n",
      "leaky_re_lu_26 (LeakyReLU)   (None, 3, 3, 64)          0         \n",
      "_________________________________________________________________\n",
      "max_pooling2d_22 (MaxPooling (None, 1, 1, 64)          0         \n",
      "_________________________________________________________________\n",
      "dropout_41 (Dropout)         (None, 1, 1, 64)          0         \n",
      "_________________________________________________________________\n",
      "conv2d_29 (Conv2D)           (None, 1, 1, 64)          36928     \n",
      "_________________________________________________________________\n",
      "leaky_re_lu_27 (LeakyReLU)   (None, 1, 1, 64)          0         \n",
      "_________________________________________________________________\n",
      "dropout_42 (Dropout)         (None, 1, 1, 64)          0         \n",
      "_________________________________________________________________\n",
      "flatten_8 (Flatten)          (None, 64)                0         \n",
      "_________________________________________________________________\n",
      "dense_39 (Dense)             (None, 64)                4160      \n",
      "_________________________________________________________________\n",
      "dropout_43 (Dropout)         (None, 64)                0         \n",
      "_________________________________________________________________\n",
      "dense_40 (Dense)             (None, 10)                650       \n",
      "_________________________________________________________________\n",
      "dense_41 (Dense)             (None, 10)                110       \n",
      "=================================================================\n",
      "Total params: 264,504\n",
      "Trainable params: 264,504\n",
      "Non-trainable params: 0\n",
      "_________________________________________________________________\n"
     ]
    }
   ],
   "source": [
    "from keras.layers import Input, LeakyReLU, Conv2D, MaxPooling2D, Dropout, Flatten, Dense\n",
    "\n",
    "def source(input_shape = (28,28,1), num_classes = 10, print_summary = True):\n",
    "\n",
    "        # Use functional API for distinguishing M_s and C easily\n",
    "        input_ = Input(shape = input_shape)\n",
    "\n",
    "        # first conv layer\n",
    "        Conv1 = Conv2D(128, kernel_size=(3,3), \n",
    "                            input_shape = input_shape, padding = 'same')(input_)\n",
    "        LeaRel1 = LeakyReLU(alpha=0.05)(Conv1)\n",
    "        MaxPool1 = MaxPooling2D(pool_size=(3, 3))(LeaRel1)\n",
    "        Drop1 = Dropout(0.3)(MaxPool1)\n",
    "\n",
    "\n",
    "        # Second conv layer\n",
    "        Conv2 = Conv2D(128, kernel_size=(3,3), \n",
    "                            input_shape = input_shape, padding = 'same')(Drop1)\n",
    "        LeaRel2 = LeakyReLU(alpha=0.05)(Conv2)\n",
    "        MaxPool2 = MaxPooling2D(pool_size=(3, 3))(LeaRel2)\n",
    "        Drop2 = Dropout(0.3)(MaxPool2)\n",
    "\n",
    "        # third conv layer\n",
    "        Conv3 = Conv2D(64, kernel_size=(3,3), \n",
    "                            input_shape = input_shape, padding = 'same')(Drop2)\n",
    "        LeaRel3 = LeakyReLU(alpha=0.05)(Conv3)\n",
    "        MaxPool3 = MaxPooling2D(pool_size=(3, 3))(LeaRel3)\n",
    "        Drop3 = Dropout(0.3)(MaxPool3)\n",
    "\n",
    "        # third conv layer\n",
    "        Conv4 = Conv2D(64, kernel_size=(3,3), \n",
    "                            input_shape = input_shape, padding = 'same')(Drop3)\n",
    "        LeaRel4 = LeakyReLU(alpha=0.05)(Conv4)\n",
    "        Drop4 = Dropout(0.3)(LeaRel4)\n",
    "\n",
    "        Flat = Flatten()(Drop4)    \n",
    "\n",
    "        Dense5 = Dense(64, activation = 'relu')(Flat)\n",
    "        Drop5 = Dropout(0.3)(Dense5)\n",
    "        # add classifier   \n",
    "        Hidden_C = Dense(10,activation = 'relu')(Drop5)\n",
    "        C = Dense(num_classes, activation='softmax')(Hidden_C)\n",
    "        \n",
    "        model = m.Model(input_, C)\n",
    "\n",
    "        # print summary\n",
    "        if print_summary:\n",
    "            model.summary()\n",
    "\n",
    "        return model\n",
    "\n",
    "source_net = source()"
   ]
  },
  {
   "cell_type": "code",
   "execution_count": 171,
   "metadata": {},
   "outputs": [
    {
     "name": "stdout",
     "output_type": "stream",
     "text": [
      "1875/1875 [==============================] - 128s 68ms/step - loss: 0.1355 - accuracy: 0.9646 - val_loss: 0.0392 - val_accuracy: 0.9891\n"
     ]
    },
    {
     "data": {
      "text/plain": [
       "<tensorflow.python.keras.callbacks.History at 0x148a5a8d0>"
      ]
     },
     "execution_count": 171,
     "metadata": {},
     "output_type": "execute_result"
    }
   ],
   "source": [
    "source_net.compile(loss = 'categorical_crossentropy', optimizer = o.Adam(),\n",
    "    metrics = ['accuracy'])\n",
    "source_net.fit(x_train, y_train, epochs=1, validation_data = (x_test,y_test))"
   ]
  },
  {
   "cell_type": "code",
   "execution_count": 178,
   "metadata": {},
   "outputs": [
    {
     "ename": "NameError",
     "evalue": "name 'Model' is not defined",
     "output_type": "error",
     "traceback": [
      "\u001b[0;31m---------------------------------------------------------------------------\u001b[0m",
      "\u001b[0;31mNameError\u001b[0m                                 Traceback (most recent call last)",
      "\u001b[0;32m<ipython-input-178-9670e02a3694>\u001b[0m in \u001b[0;36m<module>\u001b[0;34m\u001b[0m\n\u001b[1;32m      4\u001b[0m \u001b[0mclassifier1\u001b[0m \u001b[0;34m=\u001b[0m \u001b[0msource_net\u001b[0m\u001b[0;34m.\u001b[0m\u001b[0mlayers\u001b[0m\u001b[0;34m[\u001b[0m\u001b[0;34m-\u001b[0m\u001b[0;36m2\u001b[0m\u001b[0;34m]\u001b[0m\u001b[0;34m(\u001b[0m\u001b[0minputC\u001b[0m\u001b[0;34m)\u001b[0m\u001b[0;34m\u001b[0m\u001b[0;34m\u001b[0m\u001b[0m\n\u001b[1;32m      5\u001b[0m \u001b[0mclassifier2\u001b[0m \u001b[0;34m=\u001b[0m \u001b[0msource_net\u001b[0m\u001b[0;34m.\u001b[0m\u001b[0mlayers\u001b[0m\u001b[0;34m[\u001b[0m\u001b[0;34m-\u001b[0m\u001b[0;36m1\u001b[0m\u001b[0;34m]\u001b[0m\u001b[0;34m(\u001b[0m\u001b[0mclassifier1\u001b[0m\u001b[0;34m)\u001b[0m\u001b[0;34m\u001b[0m\u001b[0;34m\u001b[0m\u001b[0m\n\u001b[0;32m----> 6\u001b[0;31m \u001b[0mC\u001b[0m \u001b[0;34m=\u001b[0m \u001b[0mModel\u001b[0m\u001b[0;34m(\u001b[0m\u001b[0minputC\u001b[0m\u001b[0;34m,\u001b[0m \u001b[0mclassifier2\u001b[0m\u001b[0;34m)\u001b[0m\u001b[0;34m\u001b[0m\u001b[0;34m\u001b[0m\u001b[0m\n\u001b[0m",
      "\u001b[0;31mNameError\u001b[0m: name 'Model' is not defined"
     ]
    }
   ],
   "source": [
    "from adapy.adaptation import AdaPy\n",
    "M_s = m.Model(source_net.inputs, source_net.layers[-3].get_output_at(-1))\n",
    "inputC = Input((64,))\n",
    "classifier1 = source_net.layers[-2](inputC) \n",
    "classifier2 = source_net.layers[-1](classifier1) \n",
    "C = Model(inputC, classifier2)"
   ]
  },
  {
   "cell_type": "code",
   "execution_count": 203,
   "metadata": {},
   "outputs": [],
   "source": [
    "class ADDA():\n",
    "    def __init__(self, Xtarget, Xsource, source_rep, dd = None, mt = None):\n",
    "\n",
    "\n",
    "        #-------------------------------------------------------------------\n",
    "        #===================================================================\n",
    "        #-------------------------------------------------------------------\n",
    "        self.X = Xtarget\n",
    "        self.Xs = Xsource\n",
    "        # input shape\n",
    "        self.rows = 28\n",
    "        self.cols = 28\n",
    "        self.channels = 1\n",
    "        self.shape = (self.rows, self.cols, self.channels)\n",
    "        self.num_classes = 10\n",
    "        # load model\n",
    "        ms_network = source_rep\n",
    "        # Store the source network\n",
    "        self.source = m.clone_model(ms_network)\n",
    "        self.source.set_weights(ms_network.get_weights()) \n",
    "        self.source.trainable = False\n",
    "        self.val_scores = []\n",
    "        #-------------------------------------------------------------------\n",
    "        #===================================================================\n",
    "        #-------------------------------------------------------------------\n",
    "\n",
    "\n",
    "        # Store Mt as copy of Ms\n",
    "        if mt is None:\n",
    "            self.target = m.clone_model(ms_network)\n",
    "            self.target.set_weights(ms_network.get_weights())\n",
    "        elif mt is not None:\n",
    "            self.target = mt\n",
    "            # need this because of strange\n",
    "            # order of execution in train\n",
    "\n",
    "        # Store domain discriminator\n",
    "        if dd is None:\n",
    "            self.dd = self.build_domain_discriminator()\n",
    "        elif dd is not None:\n",
    "            self.dd = dd\n",
    "        self.dd.trainable = True\n",
    "        self.dd.compile(loss = 'binary_crossentropy', optimizer = o.Adam(lr= 0.0005),\n",
    "                    metrics = ['accuracy'])\n",
    "\n",
    "        # Define the combined model for target training\n",
    "        target_input = l.Input(shape= self.shape)\n",
    "        target_output = self.target(target_input)\n",
    "\n",
    "        # For the combined model we will only train the target\n",
    "        # representation network\n",
    "        domain_guess = self.dd(target_output)\n",
    "        \n",
    "        self.train_target = m.Model(target_input, domain_guess)\n",
    "\n",
    "        # write logs for target\n",
    "        self.optimizer_train_target = o.Adam(lr= 0.0002)\n",
    "        # self.optimizer_train_target = NormalizedOptimizer(self.optimizer_train_target, normalization=\"l2\")\n",
    "        self.dd.trainable = False\n",
    "        self.train_target.compile(loss='binary_crossentropy',\n",
    "                optimizer = self.optimizer_train_target , metrics = ['accuracy'])\n",
    "\n",
    "\n",
    "    def build_domain_discriminator(self):#128,128\n",
    "\n",
    "        inputDD = Input((64,), name = 'inpDD')\n",
    "\n",
    "        # first layer\n",
    "        Dense1 = Dense(256, activation = 'relu', kernel_initializer='random_uniform')(inputDD)\n",
    "        drop1 = Dropout(0.1)(Dense1)\n",
    "        # second layer\n",
    "        Dense2 = Dense(256, activation = 'relu',kernel_initializer='he_normal')(drop1)\n",
    "        drop2 = Dropout(0.1)(Dense2)\n",
    "        # third layer\n",
    "        Dense3 = Dense(128, activation = 'relu',kernel_initializer='he_normal')(drop2)\n",
    "        drop3 = Dropout(0.1)(Dense3)\n",
    "\n",
    "        # fourth layer\n",
    "        Dense4 = Dense(128, activation = 'relu',kernel_initializer='he_normal')(drop3)\n",
    "        drop4 = Dropout(0.1)(Dense4)\n",
    "\n",
    "        Dense5 = Dense(1, activation = 'sigmoid',kernel_initializer='he_normal')(drop4)\n",
    "\n",
    "        return m.Model(inputDD, Dense5)\n",
    "\n",
    "\n",
    "    #method for training\n",
    "    def train(self, epochs, batch_size=256,\n",
    "              save_interval=5):\n",
    "        \n",
    "\n",
    "        #-------------------------------------------------------------------\n",
    "        #===================================================================\n",
    "        #-------------------------------------------------------------------\n",
    "                \n",
    "        X_train = self.X\n",
    "        X_source = self.Xs\n",
    "        # source - target labels: 1s for source\n",
    "        source_label = np.ones((batch_size, 1))\n",
    "        target_label = np.zeros((batch_size, 1))\n",
    "        \n",
    "        self.dd.summary()\n",
    "        self.train_target.summary()\n",
    "\n",
    "        #-------------------------------------------------------------------\n",
    "        #===================================================================\n",
    "        #-------------------------------------------------------------------\n",
    "\n",
    "        #training loop\n",
    "        for epoch in range(1,epochs):\n",
    "            discriminator_iterations = 10\n",
    "            if epoch == 1:\n",
    "                discriminator_iterations = 25\n",
    "            for _ in range(discriminator_iterations):\n",
    "                # ---------------------\n",
    "                #  Train Domain Discriminator\n",
    "                # --------------------- \n",
    "                \n",
    "                # Select a random batch of measurements\n",
    "                idx = np.random.randint(0, \n",
    "                                        X_train.shape[0], \n",
    "                                        batch_size)\n",
    "                target_data = X_train[idx]\n",
    "                idx = np.random.randint(0, \n",
    "                                        X_source.shape[0], \n",
    "                                        batch_size)\n",
    "                source_data = X_source[idx]\n",
    "                \n",
    "                # Obtain target network output\n",
    "                target_latent = self.target.predict(target_data)\n",
    "            \n",
    "\n",
    "                #-------------------------------------------------------------------\n",
    "                #===================================================================\n",
    "                #-------------------------------------------------------------------\n",
    "                \n",
    "\n",
    "                # Train the dd on target input\n",
    "                d_loss_target = self.dd.train_on_batch(target_latent,\n",
    "                                                target_label)\n",
    "                # Obtain source output\n",
    "                source_latent = self.source.predict(source_data)   \n",
    "\n",
    "                # Train the dd on source input\n",
    "                d_loss_source = self.dd.train_on_batch(source_latent,\n",
    "                                                source_label)\n",
    "                #-------------------------------------------------------------------\n",
    "                #===================================================================\n",
    "                #-------------------------------------------------------------------\n",
    "\n",
    "            print(\"iter {0}\".format(epoch))\n",
    "            \n",
    "            target_loss = self.train_target.train_on_batch(target_data,\n",
    "                                                source_label)"
   ]
  },
  {
   "cell_type": "code",
   "execution_count": 204,
   "metadata": {},
   "outputs": [
    {
     "name": "stdout",
     "output_type": "stream",
     "text": [
      "1875/1875 [==============================] - 19s 10ms/step - loss: 2.3510 - accuracy: 0.3683\n"
     ]
    }
   ],
   "source": [
    "pre_transfer_accuracy = source_net.evaluate(x_new, y_train)"
   ]
  },
  {
   "cell_type": "code",
   "execution_count": 205,
   "metadata": {},
   "outputs": [],
   "source": [
    "adda = ADDA(x_new, x_train, M_s)"
   ]
  },
  {
   "cell_type": "code",
   "execution_count": 206,
   "metadata": {},
   "outputs": [
    {
     "name": "stdout",
     "output_type": "stream",
     "text": [
      "Model: \"model_36\"\n",
      "_________________________________________________________________\n",
      "Layer (type)                 Output Shape              Param #   \n",
      "=================================================================\n",
      "inpDD (InputLayer)           [(None, 64)]              0         \n",
      "_________________________________________________________________\n",
      "dense_77 (Dense)             (None, 256)               16640     \n",
      "_________________________________________________________________\n",
      "dropout_72 (Dropout)         (None, 256)               0         \n",
      "_________________________________________________________________\n",
      "dense_78 (Dense)             (None, 256)               65792     \n",
      "_________________________________________________________________\n",
      "dropout_73 (Dropout)         (None, 256)               0         \n",
      "_________________________________________________________________\n",
      "dense_79 (Dense)             (None, 128)               32896     \n",
      "_________________________________________________________________\n",
      "dropout_74 (Dropout)         (None, 128)               0         \n",
      "_________________________________________________________________\n",
      "dense_80 (Dense)             (None, 128)               16512     \n",
      "_________________________________________________________________\n",
      "dropout_75 (Dropout)         (None, 128)               0         \n",
      "_________________________________________________________________\n",
      "dense_81 (Dense)             (None, 1)                 129       \n",
      "=================================================================\n",
      "Total params: 131,969\n",
      "Trainable params: 0\n",
      "Non-trainable params: 131,969\n",
      "_________________________________________________________________\n",
      "Model: \"model_37\"\n",
      "_________________________________________________________________\n",
      "Layer (type)                 Output Shape              Param #   \n",
      "=================================================================\n",
      "input_26 (InputLayer)        [(None, 28, 28, 1)]       0         \n",
      "_________________________________________________________________\n",
      "model_24 (Model)             (None, 64)                263744    \n",
      "_________________________________________________________________\n",
      "model_36 (Model)             (None, 1)                 131969    \n",
      "=================================================================\n",
      "Total params: 395,713\n",
      "Trainable params: 263,744\n",
      "Non-trainable params: 131,969\n",
      "_________________________________________________________________\n",
      "iter 1\n",
      "iter 2\n",
      "iter 3\n",
      "iter 4\n",
      "iter 5\n",
      "iter 6\n",
      "iter 7\n",
      "iter 8\n",
      "iter 9\n"
     ]
    }
   ],
   "source": [
    "adda.train(10)"
   ]
  },
  {
   "cell_type": "code",
   "execution_count": 201,
   "metadata": {},
   "outputs": [],
   "source": [
    "post_trans = m.Model(adda.target.input, C(adda.target(adda.target.input)))\n",
    "post_trans.compile(loss = 'categorical_crossentropy', optimizer = o.Adam(),\n",
    " metrics = ['accuracy'])"
   ]
  },
  {
   "cell_type": "code",
   "execution_count": 202,
   "metadata": {},
   "outputs": [
    {
     "name": "stdout",
     "output_type": "stream",
     "text": [
      "1875/1875 [==============================] - 16s 9ms/step - loss: 2.1022 - accuracy: 0.4130\n"
     ]
    },
    {
     "data": {
      "text/plain": [
       "[2.10217547416687, 0.4130333364009857]"
      ]
     },
     "execution_count": 202,
     "metadata": {},
     "output_type": "execute_result"
    }
   ],
   "source": [
    "post_trans.evaluate(x_new, y_train)"
   ]
  },
  {
   "cell_type": "code",
   "execution_count": null,
   "metadata": {},
   "outputs": [],
   "source": []
  }
 ],
 "metadata": {
  "kernelspec": {
   "display_name": "Python 3",
   "language": "python",
   "name": "python3"
  },
  "language_info": {
   "codemirror_mode": {
    "name": "ipython",
    "version": 3
   },
   "file_extension": ".py",
   "mimetype": "text/x-python",
   "name": "python",
   "nbconvert_exporter": "python",
   "pygments_lexer": "ipython3",
   "version": "3.7.6"
  }
 },
 "nbformat": 4,
 "nbformat_minor": 4
}
