{
  "nbformat": 4,
  "nbformat_minor": 0,
  "metadata": {
    "colab": {
      "name": "Untitled3.ipynb",
      "provenance": [],
      "authorship_tag": "ABX9TyMSfrMVVloft3uWWj4Oz+VQ",
      "include_colab_link": true
    },
    "kernelspec": {
      "name": "python3",
      "display_name": "Python 3"
    }
  },
  "cells": [
    {
      "cell_type": "markdown",
      "metadata": {
        "id": "view-in-github",
        "colab_type": "text"
      },
      "source": [
        "<a href=\"https://colab.research.google.com/github/kkech/MachineLearningABCs/blob/part3/part3.ipynb\" target=\"_parent\"><img src=\"https://colab.research.google.com/assets/colab-badge.svg\" alt=\"Open In Colab\"/></a>"
      ]
    },
    {
      "cell_type": "markdown",
      "metadata": {
        "id": "lZx-Ot-7rB1b",
        "colab_type": "text"
      },
      "source": [
        "Intro to NN"
      ]
    },
    {
      "cell_type": "markdown",
      "metadata": {
        "id": "-e4TcOeqWi4t",
        "colab_type": "text"
      },
      "source": [
        "Gradient Descent"
      ]
    },
    {
      "cell_type": "code",
      "metadata": {
        "id": "sqk8wX4BWleP",
        "colab_type": "code",
        "colab": {
          "base_uri": "https://localhost:8080/",
          "height": 265
        },
        "outputId": "89348975-9444-41a3-b927-b278ac0c3095"
      },
      "source": [
        "import matplotlib.pyplot as plt\n",
        "import numpy as np\n",
        "import pandas as pd\n",
        "\n",
        "#Some helper functions for plotting and drawing lines\n",
        "\n",
        "def plot_points(X, y):\n",
        "    admitted = X[np.argwhere(y==1)]\n",
        "    rejected = X[np.argwhere(y==0)]\n",
        "    plt.scatter([s[0][0] for s in rejected], [s[0][1] for s in rejected], s = 25, color = 'blue', edgecolor = 'k')\n",
        "    plt.scatter([s[0][0] for s in admitted], [s[0][1] for s in admitted], s = 25, color = 'red', edgecolor = 'k')\n",
        "\n",
        "def display(m, b, color='g--'):\n",
        "    plt.xlim(-0.05,1.05)\n",
        "    plt.ylim(-0.05,1.05)\n",
        "    x = np.arange(-10, 10, 0.1)\n",
        "    plt.plot(x, m*x+b, color)\n",
        "\n",
        "data = pd.read_csv('data.csv', header=None)\n",
        "X = np.array(data[[0,1]])\n",
        "y = np.array(data[2])\n",
        "plot_points(X,y)\n",
        "plt.show()"
      ],
      "execution_count": 47,
      "outputs": [
        {
          "output_type": "display_data",
          "data": {
            "image/png": "[encoded data removed]",
            "text/plain": [
              "<Figure size 432x288 with 1 Axes>"
            ]
          },
          "metadata": {
            "tags": [],
            "needs_background": "light"
          }
        }
      ]
    },
    {
      "cell_type": "markdown",
      "metadata": {
        "id": "FnH4LZ-VWqck",
        "colab_type": "text"
      },
      "source": [
        "Implement the basic functions\n",
        "\n",
        "- Output (prediction) formula\n",
        "\n",
        "$$\\hat{y} = \\sigma(w_1 x_1 + w_2 x_2 + b)$$\n",
        "\n",
        "- Error function\n",
        "\n",
        "$$Error(y, \\hat{y}) = - y \\log(\\hat{y}) - (1-y) \\log(1-\\hat{y})$$\n",
        "\n",
        "- The function that updates the weights\n",
        "\n",
        "$$ w_i \\rightarrow w_i + \\alpha (y - \\hat{y}) x_i$$\n",
        "\n",
        "$$ b \\rightarrow b + \\alpha (y - \\hat{y})$$\n",
        "\n",
        "- Sigmoid activation function\n",
        "\n",
        "$$\\sigma(x) = \\frac{1}{1+e^{-x}}$$"
      ]
    },
    {
      "cell_type": "code",
      "metadata": {
        "id": "3PJBSKceXFwg",
        "colab_type": "code",
        "colab": {}
      },
      "source": [
        "# TODO: Implement the following functions\n",
        "\n",
        "# Output formula (prediction)\n",
        "def output_formula(features, weights, bias):\n",
        "    pass\n",
        "\n",
        "# Error formula (log-loss) \n",
        "def error_formula(y, output):\n",
        "    pass\n",
        "\n",
        "# Gradient descent step\n",
        "def update_weights(x, y, weights, bias, learnrate):\n",
        "    pass\n",
        "\n",
        "# Activation function (sigmoid)\n",
        "def sigmoid(x):\n",
        "    pass"
      ],
      "execution_count": 48,
      "outputs": []
    },
    {
      "cell_type": "markdown",
      "metadata": {
        "id": "9ow2ckuLXiE1",
        "colab_type": "text"
      },
      "source": [
        "Training function"
      ]
    },
    {
      "cell_type": "code",
      "metadata": {
        "id": "pf3DyqlwXicN",
        "colab_type": "code",
        "colab": {
          "base_uri": "https://localhost:8080/",
          "height": 1000
        },
        "outputId": "d401f2fe-e449-48d5-fb48-adf1a507bfcf"
      },
      "source": [
        "#### DO NOT MODIFY ANYTHING BELOW THIS LINE\n",
        "np.random.seed(50)\n",
        "\n",
        "epochs = 100\n",
        "learnrate = 0.01\n",
        "\n",
        "def train(features, targets, epochs, learnrate, graph_lines=False):\n",
        "    \n",
        "    errors = []\n",
        "    n_records, n_features = features.shape\n",
        "    last_loss = None\n",
        "    weights = np.random.normal(scale=1 / n_features**.5, size=n_features)\n",
        "    bias = 0\n",
        "    for e in range(epochs):\n",
        "        del_w = np.zeros(weights.shape)\n",
        "        for x, y in zip(features, targets):\n",
        "            output = output_formula(x, weights, bias)\n",
        "            error = error_formula(y, output)\n",
        "            weights, bias = update_weights(x, y, weights, bias, learnrate)\n",
        "        \n",
        "        # Printing out the log-loss error on the training set\n",
        "        out = output_formula(features, weights, bias)\n",
        "        loss = np.mean(error_formula(targets, out))\n",
        "        errors.append(loss)\n",
        "        if e % (epochs / 10) == 0:\n",
        "            print(\"\\n========== Epoch\", e,\"==========\")\n",
        "            if last_loss and last_loss < loss:\n",
        "                print(\"Train loss: \", loss, \"  WARNING - Loss Increasing\")\n",
        "            else:\n",
        "                print(\"Train loss: \", loss)\n",
        "            last_loss = loss\n",
        "            predictions = out > 0.5\n",
        "            accuracy = np.mean(predictions == targets)\n",
        "            print(\"Accuracy: \", accuracy)\n",
        "        if graph_lines and e % (epochs / 100) == 0:\n",
        "            display(-weights[0]/weights[1], -bias/weights[1])\n",
        "            \n",
        "\n",
        "    # Plotting the solution boundary\n",
        "    plt.title(\"Solution boundary\")\n",
        "    display(-weights[0]/weights[1], -bias/weights[1], 'black')\n",
        "\n",
        "    # Plotting the data\n",
        "    plot_points(features, targets)\n",
        "    plt.show()\n",
        "\n",
        "    # Plotting the error\n",
        "    plt.title(\"Error Plot\")\n",
        "    plt.xlabel('Number of epochs')\n",
        "    plt.ylabel('Error')\n",
        "    plt.plot(errors)\n",
        "    plt.show()\n",
        "\n",
        "train(X, y, epochs, learnrate, True)"
      ],
      "execution_count": 49,
      "outputs": [
        {
          "output_type": "stream",
          "text": [
            "\n",
            "========== Epoch 0 ==========\n",
            "Train loss:  0.6359812524827729\n",
            "Accuracy:  0.51\n",
            "\n",
            "========== Epoch 10 ==========\n",
            "Train loss:  0.5591385066906528\n",
            "Accuracy:  0.72\n",
            "\n",
            "========== Epoch 20 ==========\n",
            "Train loss:  0.5048929739936507\n",
            "Accuracy:  0.82\n",
            "\n",
            "========== Epoch 30 ==========\n",
            "Train loss:  0.4619934987615625\n",
            "Accuracy:  0.86\n",
            "\n",
            "========== Epoch 40 ==========\n",
            "Train loss:  0.4274529576544659\n",
            "Accuracy:  0.93\n",
            "\n",
            "========== Epoch 50 ==========\n",
            "Train loss:  0.39919473924403354\n",
            "Accuracy:  0.92\n",
            "\n",
            "========== Epoch 60 ==========\n",
            "Train loss:  0.3757270234292299\n",
            "Accuracy:  0.93\n",
            "\n",
            "========== Epoch 70 ==========\n",
            "Train loss:  0.3559690568139173\n",
            "Accuracy:  0.94\n",
            "\n",
            "========== Epoch 80 ==========\n",
            "Train loss:  0.3391282726547517\n",
            "Accuracy:  0.94\n",
            "\n",
            "========== Epoch 90 ==========\n",
            "Train loss:  0.32461512628911093\n",
            "Accuracy:  0.94\n"
          ],
          "name": "stdout"
        },
        {
          "output_type": "display_data",
          "data": {
            "image/png": "[encoded data removed]",
            "text/plain": [
              "<Figure size 432x288 with 1 Axes>"
            ]
          },
          "metadata": {
            "tags": [],
            "needs_background": "light"
          }
        },
        {
          "output_type": "display_data",
          "data": {
            "image/png": "[encoded data removed]",
            "text/plain": [
              "<Figure size 432x288 with 1 Axes>"
            ]
          },
          "metadata": {
            "tags": [],
            "needs_background": "light"
          }
        }
      ]
    },
    {
      "cell_type": "markdown",
      "metadata": {
        "id": "YUOCl4OaYdAk",
        "colab_type": "text"
      },
      "source": [
        "Student Admissions NN"
      ]
    },
    {
      "cell_type": "code",
      "metadata": {
        "id": "qmC-Zbf5Yp6M",
        "colab_type": "code",
        "colab": {
          "base_uri": "https://localhost:8080/",
          "height": 359
        },
        "outputId": "2300bdea-87f4-4b3b-c573-4f43020b0583"
      },
      "source": [
        "# Importing pandas and numpy\n",
        "import pandas as pd\n",
        "import numpy as np\n",
        "\n",
        "# Reading the csv file into a pandas DataFrame\n",
        "data = pd.read_csv('student_data.csv')\n",
        "\n",
        "# Printing out the first 10 rows of our data\n",
        "data[:10]"
      ],
      "execution_count": 50,
      "outputs": [
        {
          "output_type": "execute_result",
          "data": {
            "text/html": [
              "<div>\n",
              "<style scoped>\n",
              "    .dataframe tbody tr th:only-of-type {\n",
              "        vertical-align: middle;\n",
              "    }\n",
              "\n",
              "    .dataframe tbody tr th {\n",
              "        vertical-align: top;\n",
              "    }\n",
              "\n",
              "    .dataframe thead th {\n",
              "        text-align: right;\n",
              "    }\n",
              "</style>\n",
              "<table border=\"1\" class=\"dataframe\">\n",
              "  <thead>\n",
              "    <tr style=\"text-align: right;\">\n",
              "      <th></th>\n",
              "      <th>admit</th>\n",
              "      <th>gre</th>\n",
              "      <th>gpa</th>\n",
              "      <th>rank</th>\n",
              "    </tr>\n",
              "  </thead>\n",
              "  <tbody>\n",
              "    <tr>\n",
              "      <th>0</th>\n",
              "      <td>0</td>\n",
              "      <td>380</td>\n",
              "      <td>3.61</td>\n",
              "      <td>3</td>\n",
              "    </tr>\n",
              "    <tr>\n",
              "      <th>1</th>\n",
              "      <td>1</td>\n",
              "      <td>660</td>\n",
              "      <td>3.67</td>\n",
              "      <td>3</td>\n",
              "    </tr>\n",
              "    <tr>\n",
              "      <th>2</th>\n",
              "      <td>1</td>\n",
              "      <td>800</td>\n",
              "      <td>4.00</td>\n",
              "      <td>1</td>\n",
              "    </tr>\n",
              "    <tr>\n",
              "      <th>3</th>\n",
              "      <td>1</td>\n",
              "      <td>640</td>\n",
              "      <td>3.19</td>\n",
              "      <td>4</td>\n",
              "    </tr>\n",
              "    <tr>\n",
              "      <th>4</th>\n",
              "      <td>0</td>\n",
              "      <td>520</td>\n",
              "      <td>2.93</td>\n",
              "      <td>4</td>\n",
              "    </tr>\n",
              "    <tr>\n",
              "      <th>5</th>\n",
              "      <td>1</td>\n",
              "      <td>760</td>\n",
              "      <td>3.00</td>\n",
              "      <td>2</td>\n",
              "    </tr>\n",
              "    <tr>\n",
              "      <th>6</th>\n",
              "      <td>1</td>\n",
              "      <td>560</td>\n",
              "      <td>2.98</td>\n",
              "      <td>1</td>\n",
              "    </tr>\n",
              "    <tr>\n",
              "      <th>7</th>\n",
              "      <td>0</td>\n",
              "      <td>400</td>\n",
              "      <td>3.08</td>\n",
              "      <td>2</td>\n",
              "    </tr>\n",
              "    <tr>\n",
              "      <th>8</th>\n",
              "      <td>1</td>\n",
              "      <td>540</td>\n",
              "      <td>3.39</td>\n",
              "      <td>3</td>\n",
              "    </tr>\n",
              "    <tr>\n",
              "      <th>9</th>\n",
              "      <td>0</td>\n",
              "      <td>700</td>\n",
              "      <td>3.92</td>\n",
              "      <td>2</td>\n",
              "    </tr>\n",
              "  </tbody>\n",
              "</table>\n",
              "</div>"
            ],
            "text/plain": [
              "   admit  gre   gpa  rank\n",
              "0      0  380  3.61     3\n",
              "1      1  660  3.67     3\n",
              "2      1  800  4.00     1\n",
              "3      1  640  3.19     4\n",
              "4      0  520  2.93     4\n",
              "5      1  760  3.00     2\n",
              "6      1  560  2.98     1\n",
              "7      0  400  3.08     2\n",
              "8      1  540  3.39     3\n",
              "9      0  700  3.92     2"
            ]
          },
          "metadata": {
            "tags": []
          },
          "execution_count": 50
        }
      ]
    },
    {
      "cell_type": "code",
      "metadata": {
        "id": "qAriiWE5YtnS",
        "colab_type": "code",
        "colab": {
          "base_uri": "https://localhost:8080/",
          "height": 279
        },
        "outputId": "525cf903-12fa-431a-9962-bd209d87739e"
      },
      "source": [
        "# Importing matplotlib\n",
        "import matplotlib.pyplot as plt\n",
        "%matplotlib inline\n",
        "\n",
        "# Function to help us plot\n",
        "def plot_points(data):\n",
        "    X = np.array(data[[\"gre\",\"gpa\"]])\n",
        "    y = np.array(data[\"admit\"])\n",
        "    admitted = X[np.argwhere(y==1)]\n",
        "    rejected = X[np.argwhere(y==0)]\n",
        "    plt.scatter([s[0][0] for s in rejected], [s[0][1] for s in rejected], s = 25, color = 'red', edgecolor = 'k')\n",
        "    plt.scatter([s[0][0] for s in admitted], [s[0][1] for s in admitted], s = 25, color = 'cyan', edgecolor = 'k')\n",
        "    plt.xlabel('Test (GRE)')\n",
        "    plt.ylabel('Grades (GPA)')\n",
        "    \n",
        "# Plotting the points\n",
        "plot_points(data)\n",
        "plt.show()"
      ],
      "execution_count": 51,
      "outputs": [
        {
          "output_type": "display_data",
          "data": {
            "image/png": "[encoded data removed]",
            "text/plain": [
              "<Figure size 432x288 with 1 Axes>"
            ]
          },
          "metadata": {
            "tags": [],
            "needs_background": "light"
          }
        }
      ]
    },
    {
      "cell_type": "code",
      "metadata": {
        "id": "wFv7qHGhYu7o",
        "colab_type": "code",
        "colab": {
          "base_uri": "https://localhost:8080/",
          "height": 1000
        },
        "outputId": "d1f88a2a-3bcb-478a-87b6-0abe02d014ed"
      },
      "source": [
        "# Separating the ranks\n",
        "data_rank1 = data[data[\"rank\"]==1]\n",
        "data_rank2 = data[data[\"rank\"]==2]\n",
        "data_rank3 = data[data[\"rank\"]==3]\n",
        "data_rank4 = data[data[\"rank\"]==4]\n",
        "\n",
        "# Plotting the graphs\n",
        "plot_points(data_rank1)\n",
        "plt.title(\"Rank 1\")\n",
        "plt.show()\n",
        "plot_points(data_rank2)\n",
        "plt.title(\"Rank 2\")\n",
        "plt.show()\n",
        "plot_points(data_rank3)\n",
        "plt.title(\"Rank 3\")\n",
        "plt.show()\n",
        "plot_points(data_rank4)\n",
        "plt.title(\"Rank 4\")\n",
        "plt.show()"
      ],
      "execution_count": 52,
      "outputs": [
        {
          "output_type": "display_data",
          "data": {
            "image/png": "[encoded data removed]",
            "text/plain": [
              "<Figure size 432x288 with 1 Axes>"
            ]
          },
          "metadata": {
            "tags": [],
            "needs_background": "light"
          }
        },
        {
          "output_type": "display_data",
          "data": {
            "image/png": "[encoded data removed]",
            "text/plain": [
              "<Figure size 432x288 with 1 Axes>"
            ]
          },
          "metadata": {
            "tags": [],
            "needs_background": "light"
          }
        },
        {
          "output_type": "display_data",
          "data": {
            "image/png": "[encoded data removed]",
            "text/plain": [
              "<Figure size 432x288 with 1 Axes>"
            ]
          },
          "metadata": {
            "tags": [],
            "needs_background": "light"
          }
        },
        {
          "output_type": "display_data",
          "data": {
            "image/png": "[encoded data removed]",
            "text/plain": [
              "<Figure size 432x288 with 1 Axes>"
            ]
          },
          "metadata": {
            "tags": [],
            "needs_background": "light"
          }
        }
      ]
    },
    {
      "cell_type": "markdown",
      "metadata": {
        "id": "VwWAc5jhZAqg",
        "colab_type": "text"
      },
      "source": [
        "Implement the following\n",
        "\n",
        "* Make dummy variables (HINT: Use pandas Get Dummies)\n",
        "\n",
        "* Drop rank column\n",
        "\n",
        "\n",
        "\n",
        "\n"
      ]
    },
    {
      "cell_type": "code",
      "metadata": {
        "id": "zYHP_sf8ZCGg",
        "colab_type": "code",
        "colab": {
          "base_uri": "https://localhost:8080/",
          "height": 359
        },
        "outputId": "f1a0f51f-0eac-4f3d-fad2-b9272bc55f32"
      },
      "source": [
        "# TODO:  Make dummy variables for rank and concat existing columns\n",
        "one_hot_data = pass\n",
        "\n",
        "# TODO: Drop the previous rank column\n",
        "one_hot_data = pass\n",
        "\n",
        "# Print the first 10 rows of our data\n",
        "one_hot_data[:10]"
      ],
      "execution_count": 53,
      "outputs": [
        {
          "output_type": "execute_result",
          "data": {
            "text/html": [
              "<div>\n",
              "<style scoped>\n",
              "    .dataframe tbody tr th:only-of-type {\n",
              "        vertical-align: middle;\n",
              "    }\n",
              "\n",
              "    .dataframe tbody tr th {\n",
              "        vertical-align: top;\n",
              "    }\n",
              "\n",
              "    .dataframe thead th {\n",
              "        text-align: right;\n",
              "    }\n",
              "</style>\n",
              "<table border=\"1\" class=\"dataframe\">\n",
              "  <thead>\n",
              "    <tr style=\"text-align: right;\">\n",
              "      <th></th>\n",
              "      <th>admit</th>\n",
              "      <th>gre</th>\n",
              "      <th>gpa</th>\n",
              "      <th>rank_1</th>\n",
              "      <th>rank_2</th>\n",
              "      <th>rank_3</th>\n",
              "      <th>rank_4</th>\n",
              "    </tr>\n",
              "  </thead>\n",
              "  <tbody>\n",
              "    <tr>\n",
              "      <th>0</th>\n",
              "      <td>0</td>\n",
              "      <td>380</td>\n",
              "      <td>3.61</td>\n",
              "      <td>0</td>\n",
              "      <td>0</td>\n",
              "      <td>1</td>\n",
              "      <td>0</td>\n",
              "    </tr>\n",
              "    <tr>\n",
              "      <th>1</th>\n",
              "      <td>1</td>\n",
              "      <td>660</td>\n",
              "      <td>3.67</td>\n",
              "      <td>0</td>\n",
              "      <td>0</td>\n",
              "      <td>1</td>\n",
              "      <td>0</td>\n",
              "    </tr>\n",
              "    <tr>\n",
              "      <th>2</th>\n",
              "      <td>1</td>\n",
              "      <td>800</td>\n",
              "      <td>4.00</td>\n",
              "      <td>1</td>\n",
              "      <td>0</td>\n",
              "      <td>0</td>\n",
              "      <td>0</td>\n",
              "    </tr>\n",
              "    <tr>\n",
              "      <th>3</th>\n",
              "      <td>1</td>\n",
              "      <td>640</td>\n",
              "      <td>3.19</td>\n",
              "      <td>0</td>\n",
              "      <td>0</td>\n",
              "      <td>0</td>\n",
              "      <td>1</td>\n",
              "    </tr>\n",
              "    <tr>\n",
              "      <th>4</th>\n",
              "      <td>0</td>\n",
              "      <td>520</td>\n",
              "      <td>2.93</td>\n",
              "      <td>0</td>\n",
              "      <td>0</td>\n",
              "      <td>0</td>\n",
              "      <td>1</td>\n",
              "    </tr>\n",
              "    <tr>\n",
              "      <th>5</th>\n",
              "      <td>1</td>\n",
              "      <td>760</td>\n",
              "      <td>3.00</td>\n",
              "      <td>0</td>\n",
              "      <td>1</td>\n",
              "      <td>0</td>\n",
              "      <td>0</td>\n",
              "    </tr>\n",
              "    <tr>\n",
              "      <th>6</th>\n",
              "      <td>1</td>\n",
              "      <td>560</td>\n",
              "      <td>2.98</td>\n",
              "      <td>1</td>\n",
              "      <td>0</td>\n",
              "      <td>0</td>\n",
              "      <td>0</td>\n",
              "    </tr>\n",
              "    <tr>\n",
              "      <th>7</th>\n",
              "      <td>0</td>\n",
              "      <td>400</td>\n",
              "      <td>3.08</td>\n",
              "      <td>0</td>\n",
              "      <td>1</td>\n",
              "      <td>0</td>\n",
              "      <td>0</td>\n",
              "    </tr>\n",
              "    <tr>\n",
              "      <th>8</th>\n",
              "      <td>1</td>\n",
              "      <td>540</td>\n",
              "      <td>3.39</td>\n",
              "      <td>0</td>\n",
              "      <td>0</td>\n",
              "      <td>1</td>\n",
              "      <td>0</td>\n",
              "    </tr>\n",
              "    <tr>\n",
              "      <th>9</th>\n",
              "      <td>0</td>\n",
              "      <td>700</td>\n",
              "      <td>3.92</td>\n",
              "      <td>0</td>\n",
              "      <td>1</td>\n",
              "      <td>0</td>\n",
              "      <td>0</td>\n",
              "    </tr>\n",
              "  </tbody>\n",
              "</table>\n",
              "</div>"
            ],
            "text/plain": [
              "   admit  gre   gpa  rank_1  rank_2  rank_3  rank_4\n",
              "0      0  380  3.61       0       0       1       0\n",
              "1      1  660  3.67       0       0       1       0\n",
              "2      1  800  4.00       1       0       0       0\n",
              "3      1  640  3.19       0       0       0       1\n",
              "4      0  520  2.93       0       0       0       1\n",
              "5      1  760  3.00       0       1       0       0\n",
              "6      1  560  2.98       1       0       0       0\n",
              "7      0  400  3.08       0       1       0       0\n",
              "8      1  540  3.39       0       0       1       0\n",
              "9      0  700  3.92       0       1       0       0"
            ]
          },
          "metadata": {
            "tags": []
          },
          "execution_count": 53
        }
      ]
    },
    {
      "cell_type": "markdown",
      "metadata": {
        "id": "APRCVwJNZEuZ",
        "colab_type": "text"
      },
      "source": [
        "Implement the following\n",
        "\n",
        "* Scale the data.\n",
        "  * Normalize GPA in scale(0-1)\n",
        "    * Find GPA MAX\n",
        "    * Divide GPA column with GPA MAX\n",
        "  * Normalize GRE in scale(0-1)\n",
        "    * Find GRE MAX\n",
        "    * Divide GRE column with GRE MAX"
      ]
    },
    {
      "cell_type": "code",
      "metadata": {
        "id": "14-EnR7MZFad",
        "colab_type": "code",
        "colab": {
          "base_uri": "https://localhost:8080/",
          "height": 359
        },
        "outputId": "d069317b-cad9-4059-e97c-0699796d52f5"
      },
      "source": [
        "# Making a copy of our data\n",
        "processed_data = one_hot_data[:]\n",
        "\n",
        "# TODO: Scale the columns\n",
        "\n",
        "# Printing the first 10 rows of our procesed data\n",
        "processed_data[:10]"
      ],
      "execution_count": 54,
      "outputs": [
        {
          "output_type": "execute_result",
          "data": {
            "text/html": [
              "<div>\n",
              "<style scoped>\n",
              "    .dataframe tbody tr th:only-of-type {\n",
              "        vertical-align: middle;\n",
              "    }\n",
              "\n",
              "    .dataframe tbody tr th {\n",
              "        vertical-align: top;\n",
              "    }\n",
              "\n",
              "    .dataframe thead th {\n",
              "        text-align: right;\n",
              "    }\n",
              "</style>\n",
              "<table border=\"1\" class=\"dataframe\">\n",
              "  <thead>\n",
              "    <tr style=\"text-align: right;\">\n",
              "      <th></th>\n",
              "      <th>admit</th>\n",
              "      <th>gre</th>\n",
              "      <th>gpa</th>\n",
              "      <th>rank_1</th>\n",
              "      <th>rank_2</th>\n",
              "      <th>rank_3</th>\n",
              "      <th>rank_4</th>\n",
              "    </tr>\n",
              "  </thead>\n",
              "  <tbody>\n",
              "    <tr>\n",
              "      <th>0</th>\n",
              "      <td>0</td>\n",
              "      <td>0.475</td>\n",
              "      <td>0.9025</td>\n",
              "      <td>0</td>\n",
              "      <td>0</td>\n",
              "      <td>1</td>\n",
              "      <td>0</td>\n",
              "    </tr>\n",
              "    <tr>\n",
              "      <th>1</th>\n",
              "      <td>1</td>\n",
              "      <td>0.825</td>\n",
              "      <td>0.9175</td>\n",
              "      <td>0</td>\n",
              "      <td>0</td>\n",
              "      <td>1</td>\n",
              "      <td>0</td>\n",
              "    </tr>\n",
              "    <tr>\n",
              "      <th>2</th>\n",
              "      <td>1</td>\n",
              "      <td>1.000</td>\n",
              "      <td>1.0000</td>\n",
              "      <td>1</td>\n",
              "      <td>0</td>\n",
              "      <td>0</td>\n",
              "      <td>0</td>\n",
              "    </tr>\n",
              "    <tr>\n",
              "      <th>3</th>\n",
              "      <td>1</td>\n",
              "      <td>0.800</td>\n",
              "      <td>0.7975</td>\n",
              "      <td>0</td>\n",
              "      <td>0</td>\n",
              "      <td>0</td>\n",
              "      <td>1</td>\n",
              "    </tr>\n",
              "    <tr>\n",
              "      <th>4</th>\n",
              "      <td>0</td>\n",
              "      <td>0.650</td>\n",
              "      <td>0.7325</td>\n",
              "      <td>0</td>\n",
              "      <td>0</td>\n",
              "      <td>0</td>\n",
              "      <td>1</td>\n",
              "    </tr>\n",
              "    <tr>\n",
              "      <th>5</th>\n",
              "      <td>1</td>\n",
              "      <td>0.950</td>\n",
              "      <td>0.7500</td>\n",
              "      <td>0</td>\n",
              "      <td>1</td>\n",
              "      <td>0</td>\n",
              "      <td>0</td>\n",
              "    </tr>\n",
              "    <tr>\n",
              "      <th>6</th>\n",
              "      <td>1</td>\n",
              "      <td>0.700</td>\n",
              "      <td>0.7450</td>\n",
              "      <td>1</td>\n",
              "      <td>0</td>\n",
              "      <td>0</td>\n",
              "      <td>0</td>\n",
              "    </tr>\n",
              "    <tr>\n",
              "      <th>7</th>\n",
              "      <td>0</td>\n",
              "      <td>0.500</td>\n",
              "      <td>0.7700</td>\n",
              "      <td>0</td>\n",
              "      <td>1</td>\n",
              "      <td>0</td>\n",
              "      <td>0</td>\n",
              "    </tr>\n",
              "    <tr>\n",
              "      <th>8</th>\n",
              "      <td>1</td>\n",
              "      <td>0.675</td>\n",
              "      <td>0.8475</td>\n",
              "      <td>0</td>\n",
              "      <td>0</td>\n",
              "      <td>1</td>\n",
              "      <td>0</td>\n",
              "    </tr>\n",
              "    <tr>\n",
              "      <th>9</th>\n",
              "      <td>0</td>\n",
              "      <td>0.875</td>\n",
              "      <td>0.9800</td>\n",
              "      <td>0</td>\n",
              "      <td>1</td>\n",
              "      <td>0</td>\n",
              "      <td>0</td>\n",
              "    </tr>\n",
              "  </tbody>\n",
              "</table>\n",
              "</div>"
            ],
            "text/plain": [
              "   admit    gre     gpa  rank_1  rank_2  rank_3  rank_4\n",
              "0      0  0.475  0.9025       0       0       1       0\n",
              "1      1  0.825  0.9175       0       0       1       0\n",
              "2      1  1.000  1.0000       1       0       0       0\n",
              "3      1  0.800  0.7975       0       0       0       1\n",
              "4      0  0.650  0.7325       0       0       0       1\n",
              "5      1  0.950  0.7500       0       1       0       0\n",
              "6      1  0.700  0.7450       1       0       0       0\n",
              "7      0  0.500  0.7700       0       1       0       0\n",
              "8      1  0.675  0.8475       0       0       1       0\n",
              "9      0  0.875  0.9800       0       1       0       0"
            ]
          },
          "metadata": {
            "tags": []
          },
          "execution_count": 54
        }
      ]
    },
    {
      "cell_type": "code",
      "metadata": {
        "id": "6_2OjTS4ZHUL",
        "colab_type": "code",
        "colab": {
          "base_uri": "https://localhost:8080/",
          "height": 425
        },
        "outputId": "d6612da5-cb46-4f73-f54a-6683c8e673b9"
      },
      "source": [
        "sample = np.random.choice(processed_data.index, size=int(len(processed_data)*0.9), replace=False)\n",
        "train_data, test_data = processed_data.iloc[sample], processed_data.drop(sample)\n",
        "\n",
        "print(\"Number of training samples is\", len(train_data))\n",
        "print(\"Number of testing samples is\", len(test_data))\n",
        "print(train_data[:10])\n",
        "print(test_data[:10])"
      ],
      "execution_count": 55,
      "outputs": [
        {
          "output_type": "stream",
          "text": [
            "Number of training samples is 360\n",
            "Number of testing samples is 40\n",
            "     admit    gre     gpa  rank_1  rank_2  rank_3  rank_4\n",
            "318      1  0.600  0.9275       0       0       0       1\n",
            "379      0  0.675  0.6750       0       1       0       0\n",
            "89       1  0.825  1.0000       0       1       0       0\n",
            "202      1  0.875  1.0000       1       0       0       0\n",
            "231      0  0.750  0.8200       0       0       1       0\n",
            "213      0  0.800  0.8450       0       0       1       0\n",
            "222      1  0.600  0.7550       1       0       0       0\n",
            "100      0  0.425  0.7875       0       0       1       0\n",
            "337      0  0.775  0.7725       0       0       0       1\n",
            "151      0  0.500  0.8450       0       1       0       0\n",
            "    admit    gre     gpa  rank_1  rank_2  rank_3  rank_4\n",
            "0       0  0.475  0.9025       0       0       1       0\n",
            "6       1  0.700  0.7450       1       0       0       0\n",
            "26      1  0.775  0.9025       1       0       0       0\n",
            "49      0  0.500  0.8375       0       0       1       0\n",
            "60      1  0.775  0.7950       0       1       0       0\n",
            "70      0  0.800  1.0000       0       0       1       0\n",
            "71      0  0.375  0.7300       0       0       0       1\n",
            "79      1  0.775  1.0000       1       0       0       0\n",
            "91      1  0.900  0.9100       1       0       0       0\n",
            "93      0  0.725  0.7325       0       1       0       0\n"
          ],
          "name": "stdout"
        }
      ]
    },
    {
      "cell_type": "code",
      "metadata": {
        "id": "RnkMB-5pZI80",
        "colab_type": "code",
        "colab": {
          "base_uri": "https://localhost:8080/",
          "height": 391
        },
        "outputId": "2ab6654f-127f-4bce-dcfa-f079f349de7b"
      },
      "source": [
        "features = train_data.drop('admit', axis=1)\n",
        "targets = train_data['admit']\n",
        "features_test = test_data.drop('admit', axis=1)\n",
        "targets_test = test_data['admit']\n",
        "\n",
        "print(features[:10])\n",
        "print(targets[:10])"
      ],
      "execution_count": 56,
      "outputs": [
        {
          "output_type": "stream",
          "text": [
            "       gre     gpa  rank_1  rank_2  rank_3  rank_4\n",
            "318  0.600  0.9275       0       0       0       1\n",
            "379  0.675  0.6750       0       1       0       0\n",
            "89   0.825  1.0000       0       1       0       0\n",
            "202  0.875  1.0000       1       0       0       0\n",
            "231  0.750  0.8200       0       0       1       0\n",
            "213  0.800  0.8450       0       0       1       0\n",
            "222  0.600  0.7550       1       0       0       0\n",
            "100  0.425  0.7875       0       0       1       0\n",
            "337  0.775  0.7725       0       0       0       1\n",
            "151  0.500  0.8450       0       1       0       0\n",
            "318    1\n",
            "379    0\n",
            "89     1\n",
            "202    1\n",
            "231    0\n",
            "213    0\n",
            "222    1\n",
            "100    0\n",
            "337    0\n",
            "151    0\n",
            "Name: admit, dtype: int64\n"
          ],
          "name": "stdout"
        }
      ]
    },
    {
      "cell_type": "code",
      "metadata": {
        "id": "zJa7iejdZKPd",
        "colab_type": "code",
        "colab": {}
      },
      "source": [
        "# Activation (sigmoid) function\n",
        "def sigmoid(x):\n",
        "    return 1 / (1 + np.exp(-x))\n",
        "def sigmoid_prime(x):\n",
        "    return sigmoid(x) * (1-sigmoid(x))\n",
        "def error_formula(y, output):\n",
        "    return - y*np.log(output) - (1 - y) * np.log(1-output)"
      ],
      "execution_count": 57,
      "outputs": []
    },
    {
      "cell_type": "markdown",
      "metadata": {
        "id": "Y_vkU3rQkUz1",
        "colab_type": "text"
      },
      "source": [
        "Chain Rule\n",
        "\n",
        "* Forward propagation and evaluation\n",
        "\n",
        "$$x = \\alpha_1$$\n",
        "$$z_1 = w_1*x + b$$\n",
        "$$a_2 = \\sigma(z_1)$$\n",
        "\n",
        "* Find Cost\n",
        "  * MSE\n",
        "  * e.t.c.\n",
        "\n",
        "* Backpropagation -> aims to minimize the cost function by adjusting network’s weights and biases.\n",
        "  * Compute Gradients using ***chain rule.***\n",
        "  * Update weights and bias.\n"
      ]
    },
    {
      "cell_type": "markdown",
      "metadata": {
        "id": "WWtwG8tqZNJ3",
        "colab_type": "text"
      },
      "source": [
        "Implement Error Term Formula\n",
        "\n",
        "$$ (y-\\hat{y}) \\sigma'(x) $$"
      ]
    },
    {
      "cell_type": "code",
      "metadata": {
        "id": "EvuRBUw0ZOOy",
        "colab_type": "code",
        "colab": {}
      },
      "source": [
        "# TODO: Write the error term formula.\n",
        "def error_term_formula(x, y, output):\n",
        "    pass"
      ],
      "execution_count": 64,
      "outputs": []
    },
    {
      "cell_type": "code",
      "metadata": {
        "id": "9gKEyy8CZQ1j",
        "colab_type": "code",
        "colab": {
          "base_uri": "https://localhost:8080/",
          "height": 561
        },
        "outputId": "4b6c3e31-37b4-41dc-84d7-4092dca23b4b"
      },
      "source": [
        "# Neural Network hyperparameters\n",
        "epochs = 1000\n",
        "learnrate = 0.5\n",
        "\n",
        "# Training function\n",
        "def train_nn(features, targets, epochs, learnrate):\n",
        "    \n",
        "    # Use to same seed to make debugging easier\n",
        "    np.random.seed(50)\n",
        "\n",
        "    n_records, n_features = features.shape\n",
        "    last_loss = None\n",
        "\n",
        "    # Initialize weights\n",
        "    weights = np.random.normal(scale=1 / n_features**.5, size=n_features)\n",
        "\n",
        "    for e in range(epochs):\n",
        "        del_w = np.zeros(weights.shape)\n",
        "        for x, y in zip(features.values, targets):\n",
        "            # Loop through all records, x is the input, y is the target\n",
        "\n",
        "            # Activation of the output unit\n",
        "            #   Notice we multiply the inputs and the weights here \n",
        "            #   rather than storing h as a separate variable \n",
        "            output = sigmoid(np.dot(x, weights))\n",
        "\n",
        "            # The error, the target minus the network output\n",
        "            error = error_formula(y, output)\n",
        "\n",
        "            # The error term\n",
        "            error_term = error_term_formula(x, y, output)\n",
        "\n",
        "            # The gradient descent step, the error times the gradient times the inputs\n",
        "            del_w += error_term * x\n",
        "\n",
        "        # Update the weights here. The learning rate times the \n",
        "        # change in weights, divided by the number of records to average\n",
        "        weights += learnrate * del_w / n_records\n",
        "\n",
        "        # Printing out the mean square error on the training set\n",
        "        if e % (epochs / 10) == 0:\n",
        "            out = sigmoid(np.dot(features, weights))\n",
        "            loss = np.mean((out - targets) ** 2)\n",
        "            print(\"Epoch:\", e)\n",
        "            if last_loss and last_loss < loss:\n",
        "                print(\"Train loss: \", loss, \"  WARNING - Loss Increasing\")\n",
        "            else:\n",
        "                print(\"Train loss: \", loss)\n",
        "            last_loss = loss\n",
        "            print(\"=========\")\n",
        "    print(\"Finished training!\")\n",
        "    return weights\n",
        "    \n",
        "weights = train_nn(features, targets, epochs, learnrate)\n",
        "\n",
        "# Calculate accuracy on test data\n",
        "test_out = sigmoid(np.dot(features_test, weights))\n",
        "predictions = test_out > 0.5\n",
        "accuracy = np.mean(predictions == targets_test)\n",
        "print(\"Prediction accuracy: {:.3f}\".format(accuracy))"
      ],
      "execution_count": 59,
      "outputs": [
        {
          "output_type": "stream",
          "text": [
            "Epoch: 0\n",
            "Train loss:  0.24614765157225038\n",
            "=========\n",
            "Epoch: 100\n",
            "Train loss:  0.21964922663772599\n",
            "=========\n",
            "Epoch: 200\n",
            "Train loss:  0.21253334976978963\n",
            "=========\n",
            "Epoch: 300\n",
            "Train loss:  0.21005400436276464\n",
            "=========\n",
            "Epoch: 400\n",
            "Train loss:  0.2090074254410276\n",
            "=========\n",
            "Epoch: 500\n",
            "Train loss:  0.2084860701630363\n",
            "=========\n",
            "Epoch: 600\n",
            "Train loss:  0.20818484563349346\n",
            "=========\n",
            "Epoch: 700\n",
            "Train loss:  0.20798434808414154\n",
            "=========\n",
            "Epoch: 800\n",
            "Train loss:  0.20783277883932152\n",
            "=========\n",
            "Epoch: 900\n",
            "Train loss:  0.2077061734151387\n",
            "=========\n",
            "Finished training!\n",
            "Prediction accuracy: 0.725\n"
          ],
          "name": "stdout"
        }
      ]
    },
    {
      "cell_type": "markdown",
      "metadata": {
        "id": "JEC0jVuSqqGQ",
        "colab_type": "text"
      },
      "source": [
        "Using Keras"
      ]
    },
    {
      "cell_type": "code",
      "metadata": {
        "id": "JsCoSslqqtYd",
        "colab_type": "code",
        "colab": {
          "base_uri": "https://localhost:8080/",
          "height": 765
        },
        "outputId": "d0a9b15e-1d3f-422c-eb76-6a19bb4e457b"
      },
      "source": [
        "import keras\n",
        "\n",
        "sample = np.random.choice(processed_data.index, size=int(len(processed_data)*0.9), replace=False)\n",
        "train_data, test_data = processed_data.iloc[sample], processed_data.drop(sample)\n",
        "\n",
        "print(\"Number of training samples is\", len(train_data))\n",
        "print(\"Number of testing samples is\", len(test_data))\n",
        "print(train_data[:10])\n",
        "print(test_data[:10])\n",
        "\n",
        "# Separate data and one-hot encode the output\n",
        "# Note: We're also turning the data into numpy arrays, in order to train the model in Keras\n",
        "features = np.array(train_data.drop('admit', axis=1))\n",
        "targets = np.array(keras.utils.to_categorical(train_data['admit'], 2))\n",
        "features_test = np.array(test_data.drop('admit', axis=1))\n",
        "targets_test = np.array(keras.utils.to_categorical(test_data['admit'], 2))\n",
        "\n",
        "print(features[:10])\n",
        "print(targets[:10])"
      ],
      "execution_count": 60,
      "outputs": [
        {
          "output_type": "stream",
          "text": [
            "Number of training samples is 360\n",
            "Number of testing samples is 40\n",
            "     admit    gre     gpa  rank_1  rank_2  rank_3  rank_4\n",
            "150      1  1.000  0.9350       1       0       0       0\n",
            "269      0  0.625  0.7025       0       0       1       0\n",
            "89       1  0.825  1.0000       0       1       0       0\n",
            "133      0  0.625  0.7700       0       0       1       0\n",
            "115      0  0.775  0.9975       0       0       1       0\n",
            "310      0  0.700  1.0000       0       0       1       0\n",
            "227      0  0.675  0.7550       0       0       0       1\n",
            "160      0  0.750  0.7825       0       1       0       0\n",
            "272      1  0.850  0.9175       0       1       0       0\n",
            "349      0  0.775  0.7125       0       1       0       0\n",
            "    admit    gre     gpa  rank_1  rank_2  rank_3  rank_4\n",
            "0       0  0.475  0.9025       0       0       1       0\n",
            "6       1  0.700  0.7450       1       0       0       0\n",
            "26      1  0.775  0.9025       1       0       0       0\n",
            "49      0  0.500  0.8375       0       0       1       0\n",
            "51      0  0.550  0.7825       0       0       0       1\n",
            "60      1  0.775  0.7950       0       1       0       0\n",
            "71      0  0.375  0.7300       0       0       0       1\n",
            "79      1  0.775  1.0000       1       0       0       0\n",
            "91      1  0.900  0.9100       1       0       0       0\n",
            "93      0  0.725  0.7325       0       1       0       0\n",
            "[[1.     0.935  1.     0.     0.     0.    ]\n",
            " [0.625  0.7025 0.     0.     1.     0.    ]\n",
            " [0.825  1.     0.     1.     0.     0.    ]\n",
            " [0.625  0.77   0.     0.     1.     0.    ]\n",
            " [0.775  0.9975 0.     0.     1.     0.    ]\n",
            " [0.7    1.     0.     0.     1.     0.    ]\n",
            " [0.675  0.755  0.     0.     0.     1.    ]\n",
            " [0.75   0.7825 0.     1.     0.     0.    ]\n",
            " [0.85   0.9175 0.     1.     0.     0.    ]\n",
            " [0.775  0.7125 0.     1.     0.     0.    ]]\n",
            "[[0. 1.]\n",
            " [1. 0.]\n",
            " [0. 1.]\n",
            " [1. 0.]\n",
            " [1. 0.]\n",
            " [1. 0.]\n",
            " [1. 0.]\n",
            " [1. 0.]\n",
            " [0. 1.]\n",
            " [1. 0.]]\n"
          ],
          "name": "stdout"
        }
      ]
    },
    {
      "cell_type": "code",
      "metadata": {
        "id": "0sXZ299iquYL",
        "colab_type": "code",
        "colab": {
          "base_uri": "https://localhost:8080/",
          "height": 323
        },
        "outputId": "a0be107f-55ba-4139-c1b0-1e1e2c2d8615"
      },
      "source": [
        "# Imports\n",
        "import numpy as np\n",
        "from keras.models import Sequential\n",
        "from keras.layers.core import Dense, Dropout, Activation\n",
        "from keras.optimizers import SGD\n",
        "from keras.utils import np_utils\n",
        "\n",
        "# Building the model\n",
        "model = Sequential()\n",
        "model.add(Dense(128, activation='relu', input_shape=(6,)))\n",
        "model.add(Dropout(.2))\n",
        "model.add(Dense(64, activation='relu'))\n",
        "model.add(Dropout(.1))\n",
        "model.add(Dense(2, activation='softmax'))\n",
        "\n",
        "# Compiling the model\n",
        "model.compile(loss = 'categorical_crossentropy', optimizer='adam', metrics=['accuracy'])\n",
        "model.summary()"
      ],
      "execution_count": 61,
      "outputs": [
        {
          "output_type": "stream",
          "text": [
            "Model: \"sequential_2\"\n",
            "_________________________________________________________________\n",
            "Layer (type)                 Output Shape              Param #   \n",
            "=================================================================\n",
            "dense_4 (Dense)              (None, 128)               896       \n",
            "_________________________________________________________________\n",
            "dropout_3 (Dropout)          (None, 128)               0         \n",
            "_________________________________________________________________\n",
            "dense_5 (Dense)              (None, 64)                8256      \n",
            "_________________________________________________________________\n",
            "dropout_4 (Dropout)          (None, 64)                0         \n",
            "_________________________________________________________________\n",
            "dense_6 (Dense)              (None, 2)                 130       \n",
            "=================================================================\n",
            "Total params: 9,282\n",
            "Trainable params: 9,282\n",
            "Non-trainable params: 0\n",
            "_________________________________________________________________\n"
          ],
          "name": "stdout"
        }
      ]
    },
    {
      "cell_type": "code",
      "metadata": {
        "id": "-R-AkKhIq2JD",
        "colab_type": "code",
        "colab": {
          "base_uri": "https://localhost:8080/",
          "height": 34
        },
        "outputId": "99b8a46f-c412-42e4-b135-adefa63c63ee"
      },
      "source": [
        "# Training the model\n",
        "model.fit(features, targets, epochs=200, batch_size=100, verbose=0)"
      ],
      "execution_count": 62,
      "outputs": [
        {
          "output_type": "execute_result",
          "data": {
            "text/plain": [
              "<keras.callbacks.callbacks.History at 0x7f8ce838d860>"
            ]
          },
          "metadata": {
            "tags": []
          },
          "execution_count": 62
        }
      ]
    },
    {
      "cell_type": "code",
      "metadata": {
        "id": "LDegxM1xq2tF",
        "colab_type": "code",
        "colab": {
          "base_uri": "https://localhost:8080/",
          "height": 119
        },
        "outputId": "ef30f77c-e1b6-44d8-9120-7f2bfc3a12f6"
      },
      "source": [
        "# Evaluating the model on the training and testing set\n",
        "score = model.evaluate(features, targets)\n",
        "print(\"\\n Training Accuracy:\", score[1])\n",
        "score = model.evaluate(features_test, targets_test)\n",
        "print(\"\\n Testing Accuracy:\", score[1])"
      ],
      "execution_count": 63,
      "outputs": [
        {
          "output_type": "stream",
          "text": [
            "360/360 [==============================] - 0s 105us/step\n",
            "\n",
            " Training Accuracy: 0.7111111283302307\n",
            "40/40 [==============================] - 0s 65us/step\n",
            "\n",
            " Testing Accuracy: 0.699999988079071\n"
          ],
          "name": "stdout"
        }
      ]
    }
  ]
}